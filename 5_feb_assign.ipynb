{
 "cells": [
  {
   "cell_type": "code",
   "execution_count": 1,
   "id": "eb4ef38e-a44c-427d-9954-6a527ed5da6d",
   "metadata": {},
   "outputs": [],
   "source": [
    "# 5 feb assignment"
   ]
  },
  {
   "cell_type": "code",
   "execution_count": 2,
   "id": "7bfa6624-196f-4b39-b97f-949e8230dc32",
   "metadata": {},
   "outputs": [],
   "source": [
    "# 1.Explain Class and Object with respect to Object-Oriented Programming. Give a suitable example."
   ]
  },
  {
   "cell_type": "code",
   "execution_count": 3,
   "id": "692e3fad-14ea-4aad-9b57-63cc28b0c605",
   "metadata": {},
   "outputs": [],
   "source": [
    "# A class is a user-defined blueprint or prototype from which objects are created.\n",
    "# Classes provide a means of bundling data and functionality together. \n",
    "# ex.\n",
    "class dog:\n",
    "    attr1 = 'male'\n",
    "    attr2 = 'dog'\n",
    "    def func(self):\n",
    "        print(\" animal is \",self.attr2)\n",
    "        print(\" gender is \",self.attr1)"
   ]
  },
  {
   "cell_type": "code",
   "execution_count": 4,
   "id": "199ab1e5-81f2-4995-87b1-e651240692d4",
   "metadata": {},
   "outputs": [
    {
     "name": "stdout",
     "output_type": "stream",
     "text": [
      "male\n",
      " animal is  dog\n",
      " gender is  male\n"
     ]
    }
   ],
   "source": [
    "# An object is an instance of class. An object is a real world entity.\n",
    "# ex.\n",
    "dog1 = dog()\n",
    "print(dog1.attr1)\n",
    "dog1.func()"
   ]
  },
  {
   "cell_type": "code",
   "execution_count": 5,
   "id": "bdc10fbc-28aa-42e8-a6c6-32e70fcbe56b",
   "metadata": {},
   "outputs": [],
   "source": [
    "# 2. Name the four pillars of OOPs."
   ]
  },
  {
   "cell_type": "code",
   "execution_count": 6,
   "id": "4002f84d-1f84-464f-9e9e-5d493f990d82",
   "metadata": {},
   "outputs": [],
   "source": [
    "#Abstraction\n",
    "#Encapsulation\n",
    "#Inheritance\n",
    "#Polymorphism"
   ]
  },
  {
   "cell_type": "code",
   "execution_count": 7,
   "id": "2dfc3586-47ce-4667-8389-ec7d2da1c8ee",
   "metadata": {},
   "outputs": [],
   "source": [
    "#3. Explain why the __init__() function is used. Give a suitable example."
   ]
  },
  {
   "cell_type": "code",
   "execution_count": 8,
   "id": "5c09a71c-ebab-45af-9cb2-835fb000c043",
   "metadata": {},
   "outputs": [
    {
     "name": "stdout",
     "output_type": "stream",
     "text": [
      "name of person  aman\n",
      "idd of person  1234\n"
     ]
    }
   ],
   "source": [
    "# All classes have a function called __init__(), which is always executed when the class is being initiated.\n",
    "# __init__() function is used to assign values to object properties, or other operations that are necessary to do\n",
    "# when the object is being created.\n",
    "# ex\n",
    "class person:\n",
    "    def __init__(self ,name ,idd):\n",
    "        self.name = name\n",
    "        self.idd = idd\n",
    "    def detail(self):\n",
    "        print(\"name of person \", self.name)\n",
    "        print(\"idd of person \",self.idd)\n",
    "        \n",
    "person1  = person(\"aman\" , 1234)\n",
    "person1.detail()"
   ]
  },
  {
   "cell_type": "code",
   "execution_count": 9,
   "id": "2652a5db-b9c9-48af-8153-6243dd1c266d",
   "metadata": {},
   "outputs": [],
   "source": [
    "# 4. Why self is used in oops?"
   ]
  },
  {
   "cell_type": "code",
   "execution_count": 10,
   "id": "8b2aa191-48af-4fe3-b21a-91367a0eed21",
   "metadata": {},
   "outputs": [],
   "source": [
    "# The self parameter is a reference to the current object of the class,\n",
    "# and is used to access variables that belong to the class.\n",
    "# we can also use other name in place of self"
   ]
  },
  {
   "cell_type": "code",
   "execution_count": 11,
   "id": "988f4813-568b-40a4-bce8-098853763e01",
   "metadata": {},
   "outputs": [],
   "source": [
    "# 5. What is inheritance? Give an example for each type of inheritance."
   ]
  },
  {
   "cell_type": "code",
   "execution_count": 12,
   "id": "b4f8e537-ac70-4dac-8259-12afaf89d6a8",
   "metadata": {},
   "outputs": [
    {
     "name": "stdout",
     "output_type": "stream",
     "text": [
      "John Doe\n"
     ]
    }
   ],
   "source": [
    "# When a child class inherits the property of superclass then it is known as inheritance.\n",
    "# child class can access the method of superclass.\n",
    "# ex.\n",
    "# single level inheritance\n",
    "class Person:\n",
    "  def __init__(self, fname, lname):\n",
    "    self.firstname = fname\n",
    "    self.lastname = lname\n",
    "\n",
    "  def printname(self):\n",
    "    print(self.firstname, self.lastname)\n",
    "\n",
    "x = Person(\"John\", \"Doe\")\n",
    "x.printname()\n"
   ]
  },
  {
   "cell_type": "code",
   "execution_count": 13,
   "id": "d8a27caa-ee4b-4ddf-9623-3b80150b7230",
   "metadata": {},
   "outputs": [],
   "source": [
    "class student(Person): # student inherits person\n",
    "    pass"
   ]
  },
  {
   "cell_type": "code",
   "execution_count": 14,
   "id": "0e06ace9-c7f9-4e6f-8e1e-c78f11344649",
   "metadata": {},
   "outputs": [
    {
     "name": "stdout",
     "output_type": "stream",
     "text": [
      "Aman Kumar\n"
     ]
    }
   ],
   "source": [
    "y = student('Aman', 'Kumar')\n",
    "y.printname()"
   ]
  },
  {
   "cell_type": "code",
   "execution_count": 1,
   "id": "08e88f5c-e398-49b0-9506-23a839ec736b",
   "metadata": {},
   "outputs": [
    {
     "name": "stdout",
     "output_type": "stream",
     "text": [
      "Father : Ayush\n",
      "Mother : Anjali\n"
     ]
    }
   ],
   "source": [
    "# multiple inheritance\n",
    "class Mother:\n",
    "\tmothername = \"\"\n",
    "\tdef mother(self):\n",
    "\t\tprint(self.mothername)\n",
    "        \n",
    "class Father:\n",
    "\tfathername = \"\"\n",
    "\n",
    "\tdef father(self):\n",
    "\t\tprint(self.fathername)\n",
    "\n",
    "class Son(Mother, Father):\n",
    "\tdef parents(self):\n",
    "\t\tprint(\"Father :\", self.fathername)\n",
    "\t\tprint(\"Mother :\", self.mothername)\n",
    "\n",
    "s1 = Son()\n",
    "s1.fathername = \"Ayush\"\n",
    "s1.mothername = \"Anjali\"\n",
    "s1.parents()\n"
   ]
  },
  {
   "cell_type": "code",
   "execution_count": 3,
   "id": "f40921eb-e6b3-4d22-8486-fc9e7b604155",
   "metadata": {},
   "outputs": [
    {
     "name": "stdout",
     "output_type": "stream",
     "text": [
      "Abhi\n",
      "Grandfather name : Abhi\n",
      "Father name : Ram\n",
      "Son name : Aman\n"
     ]
    }
   ],
   "source": [
    "# multilevel inheritance\n",
    "class Grandfather:\n",
    "\n",
    "\tdef __init__(self, grandfathername):\n",
    "\t\tself.grandfathername = grandfathername\n",
    "\n",
    "class Father(Grandfather):\n",
    "\tdef __init__(self, fathername, grandfathername):\n",
    "\t\tself.fathername = fathername\n",
    "\n",
    "\t\tGrandfather.__init__(self, grandfathername)\n",
    "\n",
    "class Son(Father):\n",
    "\tdef __init__(self, sonname, fathername, grandfathername):\n",
    "\t\tself.sonname = sonname\n",
    "        \n",
    "\t\tFather.__init__(self, fathername, grandfathername)\n",
    "\n",
    "\tdef print_name(self):\n",
    "\t\tprint('Grandfather name :', self.grandfathername)\n",
    "\t\tprint(\"Father name :\", self.fathername)\n",
    "\t\tprint(\"Son name :\", self.sonname)\n",
    "\n",
    "s1 = Son('Aman', 'Ram', 'Abhi')\n",
    "print(s1.grandfathername)\n",
    "s1.print_name()\n"
   ]
  },
  {
   "cell_type": "code",
   "execution_count": 4,
   "id": "4dd368fd-15b1-4cfe-99f0-5a0cb9dc7372",
   "metadata": {},
   "outputs": [
    {
     "name": "stdout",
     "output_type": "stream",
     "text": [
      "This function is in parent class.\n",
      "This function is in child 1.\n",
      "This function is in parent class.\n",
      "This function is in child 2.\n"
     ]
    }
   ],
   "source": [
    "# Hierarchical inheritance\n",
    "class Parent:\n",
    "\tdef func1(self):\n",
    "\t\tprint(\"This function is in parent class.\")\n",
    "\n",
    "class Child1(Parent):\n",
    "\tdef func2(self):\n",
    "\t\tprint(\"This function is in child 1.\")\n",
    "\n",
    "class Child2(Parent):\n",
    "\tdef func3(self):\n",
    "\t\tprint(\"This function is in child 2.\")\n",
    "\n",
    "object1 = Child1()\n",
    "object2 = Child2()\n",
    "object1.func1()\n",
    "object1.func2()\n",
    "object2.func1()\n",
    "object2.func3()\n"
   ]
  },
  {
   "cell_type": "code",
   "execution_count": null,
   "id": "f8a29da0-48e7-406a-8eff-8d5b0070cee7",
   "metadata": {},
   "outputs": [],
   "source": []
  }
 ],
 "metadata": {
  "kernelspec": {
   "display_name": "Python 3 (ipykernel)",
   "language": "python",
   "name": "python3"
  },
  "language_info": {
   "codemirror_mode": {
    "name": "ipython",
    "version": 3
   },
   "file_extension": ".py",
   "mimetype": "text/x-python",
   "name": "python",
   "nbconvert_exporter": "python",
   "pygments_lexer": "ipython3",
   "version": "3.10.8"
  }
 },
 "nbformat": 4,
 "nbformat_minor": 5
}
