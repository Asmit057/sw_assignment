{
 "cells": [
  {
   "cell_type": "code",
   "execution_count": 1,
   "id": "df0a49e8-038e-43a6-9e35-50d532c227ce",
   "metadata": {},
   "outputs": [],
   "source": [
    "# 14 feb assignment"
   ]
  },
  {
   "cell_type": "code",
   "execution_count": 2,
   "id": "a45107b4-0ee7-4441-b7e7-c02e73107cef",
   "metadata": {},
   "outputs": [],
   "source": [
    "# 1. What is multithreading in python? Why is it used? Name the module used to handle threads in python."
   ]
  },
  {
   "cell_type": "code",
   "execution_count": 3,
   "id": "3328865f-3174-4d29-babb-5cee21972971",
   "metadata": {},
   "outputs": [],
   "source": [
    "# Multithreading is a threading technique in Python programming to run multiple threads concurrently by rapidly\n",
    "# switching between threads with a CPU help (called context switching).\n",
    "# It is used to run multiple threads on single processor.\n",
    "# threading module is used to handle thread."
   ]
  },
  {
   "cell_type": "code",
   "execution_count": 4,
   "id": "7066de2b-bcff-421b-b224-2b8224ac1786",
   "metadata": {},
   "outputs": [],
   "source": [
    "# 2.why threading module used? Write the use of the following functions.\n",
    "# activeCount()\n",
    "# currentThread()\n",
    "# enumerate()"
   ]
  },
  {
   "cell_type": "code",
   "execution_count": 5,
   "id": "9867fe2b-ed4b-45d1-b453-af66fa5c9d97",
   "metadata": {},
   "outputs": [],
   "source": [
    "# threading is used to execute multiple threads concurrently.\n",
    "# activeCount() -\n",
    "# the method threading.active_count() from the threading module is used to\n",
    "# count the currently active or running threads.\n",
    "# currentThread() -\n",
    "# current_thread() is an inbuilt method of the threading module in Python.\n",
    "# It is used to return the current Thread object, which corresponds to the caller's thread of control.\n",
    "# enumerate() -\n",
    "# enumerate() returns a list of all Thread objects currently alive.\n",
    "# The list includes daemonic threads, dummy thread objects created by current_thread(),\n",
    "# and the main thread. It excludes terminated threads and threads that have not yet been started."
   ]
  },
  {
   "cell_type": "code",
   "execution_count": 6,
   "id": "783d6424-5f12-4be5-a3ab-9d99b2c19119",
   "metadata": {},
   "outputs": [],
   "source": [
    "# 3.Explain the following functions\n",
    "# run()\n",
    "# start()\n",
    "# join()\n",
    "# isAlive()"
   ]
  },
  {
   "cell_type": "code",
   "execution_count": 7,
   "id": "dec83dc6-3f17-417c-bb2d-f5423a9a136a",
   "metadata": {},
   "outputs": [],
   "source": [
    "# run() − The run() method is the entry point for a thread.\n",
    "# start() − The start() method starts a thread by calling the run method.\n",
    "# join() − The join() waits for threads to terminate.\n",
    "# isAlive() − The isAlive() method checks whether a thread is still executing."
   ]
  },
  {
   "cell_type": "code",
   "execution_count": 8,
   "id": "74469439-ff10-457c-9ed9-9980085989ee",
   "metadata": {},
   "outputs": [],
   "source": [
    "# 4. Write a python program to create two threads. Thread one must print the list of squares and thread \n",
    "#    two must print the list of cubes."
   ]
  },
  {
   "cell_type": "code",
   "execution_count": 16,
   "id": "40a6b6ae-256e-4fdc-a001-b148c1b6744e",
   "metadata": {},
   "outputs": [],
   "source": [
    "from threading import *\n",
    "from time import sleep\n",
    "class sq(Thread):\n",
    "    def run(self):\n",
    "        for i in range(10):\n",
    "            print(\"square of %d is %d \" %(i,i**2))\n",
    "            sleep(1)\n",
    "    \n",
    "class cub(Thread):\n",
    "    def run(self):\n",
    "        for i in range(10):\n",
    "            print(\"cube of %d is %d \" %(i,i**3))\n",
    "            sleep(1)"
   ]
  },
  {
   "cell_type": "code",
   "execution_count": 17,
   "id": "b4815ad4-1d66-4a05-898f-36dd9a00112b",
   "metadata": {},
   "outputs": [],
   "source": [
    "sq_th = sq()\n",
    "cub_th =cub()\n"
   ]
  },
  {
   "cell_type": "code",
   "execution_count": 18,
   "id": "c838fb0b-5cd4-437b-a0e5-c2b93c1c6085",
   "metadata": {},
   "outputs": [
    {
     "name": "stdout",
     "output_type": "stream",
     "text": [
      "square of 0 is 0 \n",
      "cube of 0 is 0 \n",
      "square of 1 is 1 \n",
      "cube of 1 is 1 \n",
      "square of 2 is 4 \n",
      "cube of 2 is 8 \n",
      "square of 3 is 9 \n",
      "cube of 3 is 27 \n",
      "square of 4 is 16 \n",
      "cube of 4 is 64 \n",
      "square of 5 is 25 \n",
      "cube of 5 is 125 \n",
      "square of 6 is 36 \n",
      "cube of 6 is 216 \n",
      "square of 7 is 49 \n",
      "cube of 7 is 343 \n",
      "square of 8 is 64 \n",
      "cube of 8 is 512 \n",
      "square of 9 is 81 \n",
      "cube of 9 is 729 \n"
     ]
    }
   ],
   "source": [
    "sq_th.start()\n",
    "sleep(0.2)\n",
    "cub_th.start()"
   ]
  },
  {
   "cell_type": "code",
   "execution_count": 12,
   "id": "27bf4a28-08b5-4cf9-a312-9f17f64e9305",
   "metadata": {},
   "outputs": [],
   "source": [
    "# 5. State advantages and disadvantages of multithreading."
   ]
  },
  {
   "cell_type": "code",
   "execution_count": 13,
   "id": "0d6ca650-6739-4a76-9476-2db0ff790ad5",
   "metadata": {},
   "outputs": [],
   "source": [
    "# Advantages\n",
    "# Enhanced performance by decreased development time\n",
    "# Simplified and streamlined program coding\n",
    "# Improvised GUI responsiveness\n",
    "# Simultaneous and parallelized occurrence of tasks\n",
    "# Better use of cache storage by utilization of resources\n",
    "# Decreased cost of maintenance\n",
    "# Better use of CPU resource"
   ]
  },
  {
   "cell_type": "code",
   "execution_count": 14,
   "id": "17bea01f-d95e-4c5b-b4a7-2b83d69c2f88",
   "metadata": {},
   "outputs": [],
   "source": [
    "# disadvantages\n",
    "# Complex debugging and testing processes\n",
    "# Overhead switching of context\n",
    "# Increased potential for deadlock occurrence\n",
    "# Increased difficulty level in writing a program\n",
    "# Unpredictable results"
   ]
  },
  {
   "cell_type": "code",
   "execution_count": 15,
   "id": "c2a09bd3-9159-4f1c-b74b-29e4d025983c",
   "metadata": {},
   "outputs": [],
   "source": [
    "# 6. . Explain deadlocks and race conditions.\n",
    "# A Deadlock is a situation where each of the computer process waits for a resource\n",
    "# which is being assigned to some another process. \n",
    "# In this situation, none of the process gets executed since the resource it needs,\n",
    "# is held by some other process which is also waiting for some other resource to be released.\n",
    "# Race condition\n",
    "# A race condition occurs when two threads access a shared variable at the same time.\n",
    "# The first thread reads the variable, and the second thread reads the same value from the variable."
   ]
  },
  {
   "cell_type": "code",
   "execution_count": null,
   "id": "46f64e4a-e022-42c9-84c8-f9abfd006ee0",
   "metadata": {},
   "outputs": [],
   "source": []
  }
 ],
 "metadata": {
  "kernelspec": {
   "display_name": "Python 3 (ipykernel)",
   "language": "python",
   "name": "python3"
  },
  "language_info": {
   "codemirror_mode": {
    "name": "ipython",
    "version": 3
   },
   "file_extension": ".py",
   "mimetype": "text/x-python",
   "name": "python",
   "nbconvert_exporter": "python",
   "pygments_lexer": "ipython3",
   "version": "3.10.8"
  }
 },
 "nbformat": 4,
 "nbformat_minor": 5
}
