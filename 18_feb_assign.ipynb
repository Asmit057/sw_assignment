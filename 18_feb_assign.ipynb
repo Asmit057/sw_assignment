{
 "cells": [
  {
   "cell_type": "code",
   "execution_count": 1,
   "id": "a6793fcc-041f-4507-b2a0-8a1ad9cacb05",
   "metadata": {},
   "outputs": [],
   "source": [
    "# 18 feb assignment"
   ]
  },
  {
   "cell_type": "code",
   "execution_count": 2,
   "id": "2be886be-38ec-418a-b91f-58cb62805751",
   "metadata": {},
   "outputs": [],
   "source": [
    "# Q1. What is an API? Give an example, where an API is used in real life."
   ]
  },
  {
   "cell_type": "code",
   "execution_count": 3,
   "id": "92716743-4531-4b22-9e26-487b8ad3ed82",
   "metadata": {},
   "outputs": [],
   "source": [
    "# An API or Application Programming Interface is a set of functions and procedures that allow systems to integrate,\n",
    "# so its functionalities can be reused by other apps or programs.\n",
    "# In API we can write code in one language and run in multiple languages.\n",
    "# APIs are used to deliver content by streaming services like Spotify and Netflix.\n",
    "#APIs are used to provide software updates by automakers like Tesla."
   ]
  },
  {
   "cell_type": "code",
   "execution_count": 4,
   "id": "5065e135-84c8-48c9-a832-a46f7f2bcab8",
   "metadata": {},
   "outputs": [],
   "source": [
    "# Q2. Give advantages and disadvantages of using API."
   ]
  },
  {
   "cell_type": "code",
   "execution_count": 5,
   "id": "86e86c6f-4c74-452c-a910-c65c6b356441",
   "metadata": {},
   "outputs": [],
   "source": [
    "# Advantages\n",
    "# Applications: Access to APIs ensures more flexibility in information-transfer processes.\n",
    "#Reach: APIs let you create layers in apps in order to distribute information to different audiences.\n",
    "# Customization: Furthermore, it can serve as a solution to create different experiences for users, letting protocols, functions, and\n",
    "# commands be adapted according to specific demands.\n",
    "# Efficiency: When you have content that is automatically published and made available on different channels \n",
    "# simultaneously, APIs allow for more efficient data distribution.\n",
    "# Adaptability: One of the greatest benefits of APIs is the ability it has to adapt to changes through\n",
    "#data migration and flexibility of services."
   ]
  },
  {
   "cell_type": "code",
   "execution_count": 6,
   "id": "5fa42b69-c6f6-48a3-8124-9110ad1b4c85",
   "metadata": {},
   "outputs": [],
   "source": [
    "# Disadvantages\n",
    "# As a single point of entry, an API is a gateway and can become a hacker's\n",
    "# primary target. Once the API is compromised, all other applications and systems become vulnerable.\n",
    "# It doesn't give you an idea of how user-friendly your application is.\n"
   ]
  },
  {
   "cell_type": "code",
   "execution_count": 7,
   "id": "9280553f-0d81-4c3a-bf44-4d5d8d208328",
   "metadata": {},
   "outputs": [],
   "source": [
    "# Q3. What is a Web API? Differentiate between API and Web API."
   ]
  },
  {
   "cell_type": "code",
   "execution_count": 8,
   "id": "2ab4f53f-addd-4621-808a-4b43e0bc5a9b",
   "metadata": {},
   "outputs": [],
   "source": [
    "# A Web API stands for Application Programming Interface. It is a software application that\n",
    "# allows two different applications or machines to interact with each other without any user interference.\n",
    "# The API contains a complete set of rules and specifications used when interacting with any web application.\n",
    "# API\n",
    "# API used to communicate between two machines on a network.\n",
    "# It uses HTML requests that can be compressed, but XML data cannot be compressed.\n",
    "# A web service is just an API wrapped in HTTP.\n",
    "# It does not have a complete set of specifications, and sometimes it cannot perform all the functions \n",
    "# that can be executed by the WEB API.\n",
    "# WEB API\n",
    "# Web API is used as an interface between two different applications for communicating with each other.\n",
    "# Data can be compressed\n",
    "# \tAll APIs are not web services.\n",
    "# An API is a complete set of rules and specifications that follow to facilitate the interaction."
   ]
  },
  {
   "cell_type": "code",
   "execution_count": 9,
   "id": "73acb214-ebf0-4d8e-9879-6bb8491f8236",
   "metadata": {},
   "outputs": [],
   "source": [
    "# Q4. Explain REST and SOAP Architecture. Mention shortcomings of SOAP."
   ]
  },
  {
   "cell_type": "code",
   "execution_count": 10,
   "id": "e6ec954d-ae96-473d-a6d3-89e60984d9ad",
   "metadata": {},
   "outputs": [],
   "source": [
    "# SOAP is a protocol which was designed before REST and came into the picture. \n",
    "#The main idea behind designing SOAP was to ensure that programs built on \n",
    "# different platforms and programming languages could exchange data in an easy manner. \n",
    "# SOAP stands for Simple Object Access Protocol.\n",
    "# REST \n",
    "# REST was designed specifically for working with components such as media components, files,\n",
    "# or even objects on a particular hardware device. Any web service that is defined on the principles \n",
    "# of REST can be called a RestFul web service. A Restful service would use the normal HTTP verbs of\n",
    "# GET, POST, PUT and DELETE for working with the required components. REST stands for Representational State Transfer.\n",
    "# Challenges with the SOAP API\n",
    "\n",
    "# WSDL file – One of the key challenges of the SOAP API is the WSDL document itself. \n",
    "# The WSDL document is what tells the client of all the operations that can be performed by the web service. \n",
    "# The WSDL document will contain all information such as the data types being used in the SOAP messages and\n",
    "# what all operations are available via the web service.\n",
    "# Document size – The other key challenge is the size of the SOAP messages which get transferred from the client to the server. \n",
    "# Because of the large messages, using SOAP in places where bandwidth is a constraint can be a big issue."
   ]
  },
  {
   "cell_type": "code",
   "execution_count": 11,
   "id": "72cfa5a4-99a8-4b34-9b07-0ec56effdcb6",
   "metadata": {},
   "outputs": [],
   "source": [
    "# Q5. Differentiate between REST and SOAP."
   ]
  },
  {
   "cell_type": "code",
   "execution_count": 12,
   "id": "0808fcef-fd80-4a0b-922f-b25d863c58fe",
   "metadata": {},
   "outputs": [],
   "source": [
    "# SOAP stands for Simple Object Access Protocol whereas REST stands for Representational State Transfer.\n",
    "# SOAP is a protocol whereas REST is an architectural pattern.\n",
    "# SOAP uses service interfaces to expose its functionality to client applications\n",
    "# while REST uses Uniform Service locators to access to the components on the hardware device.\n",
    "# SOAP needs more bandwidth for its usage whereas REST doesn’t need much bandwidth.\n",
    "# Comparing SOAP vs REST API, SOAP only works with XML formats whereas REST work with plain \n",
    "# text, XML, HTML and JSON.\n",
    "# SOAP cannot make use of REST whereas REST can make use of SOAP."
   ]
  }
 ],
 "metadata": {
  "kernelspec": {
   "display_name": "Python 3 (ipykernel)",
   "language": "python",
   "name": "python3"
  },
  "language_info": {
   "codemirror_mode": {
    "name": "ipython",
    "version": 3
   },
   "file_extension": ".py",
   "mimetype": "text/x-python",
   "name": "python",
   "nbconvert_exporter": "python",
   "pygments_lexer": "ipython3",
   "version": "3.10.8"
  }
 },
 "nbformat": 4,
 "nbformat_minor": 5
}
