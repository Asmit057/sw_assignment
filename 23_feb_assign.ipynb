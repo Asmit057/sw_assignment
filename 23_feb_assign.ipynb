{
 "cells": [
  {
   "cell_type": "code",
   "execution_count": 1,
   "id": "9fb52323-1e1e-4670-8327-b83f369bf5cf",
   "metadata": {},
   "outputs": [],
   "source": [
    "# 23 feb assignment"
   ]
  },
  {
   "cell_type": "code",
   "execution_count": 2,
   "id": "8d6f4a2d-7c74-48f6-aa79-1bf840cf12c8",
   "metadata": {},
   "outputs": [],
   "source": [
    "# Q1. Create a Pandas Series that contains the following data: 4, 8, 15, 16, 23, and 42. Then, print the series."
   ]
  },
  {
   "cell_type": "code",
   "execution_count": 3,
   "id": "3b3144b2-0bb1-4eaf-bfbe-62c86ddb3ec5",
   "metadata": {},
   "outputs": [],
   "source": [
    "import pandas as pd\n",
    "data = [4,8,15,16,23,42]\n",
    "Ser = pd.Series(data)"
   ]
  },
  {
   "cell_type": "code",
   "execution_count": 4,
   "id": "f97155a9-528a-4c14-ab18-b67fe6549777",
   "metadata": {},
   "outputs": [
    {
     "data": {
      "text/plain": [
       "0     4\n",
       "1     8\n",
       "2    15\n",
       "3    16\n",
       "4    23\n",
       "5    42\n",
       "dtype: int64"
      ]
     },
     "execution_count": 4,
     "metadata": {},
     "output_type": "execute_result"
    }
   ],
   "source": [
    "Ser"
   ]
  },
  {
   "cell_type": "code",
   "execution_count": 5,
   "id": "95943e91-567f-4152-b66b-6e1265528fd7",
   "metadata": {},
   "outputs": [],
   "source": [
    "# Q2. Create a variable of list type containing 10 elements in it, and apply pandas.Series function on the \n",
    "# variable print it."
   ]
  },
  {
   "cell_type": "code",
   "execution_count": 6,
   "id": "0eb0430c-3fbc-47f4-b145-c43dac1dea80",
   "metadata": {},
   "outputs": [],
   "source": [
    "lis = [1,2,3,4,5,6,7,8,9,10.0]\n",
    "Ser1 = pd.Series(lis)"
   ]
  },
  {
   "cell_type": "code",
   "execution_count": 7,
   "id": "6e0ac990-8168-4c6d-a2e3-acfa8c7b3c2a",
   "metadata": {},
   "outputs": [
    {
     "data": {
      "text/plain": [
       "0     1.0\n",
       "1     2.0\n",
       "2     3.0\n",
       "3     4.0\n",
       "4     5.0\n",
       "5     6.0\n",
       "6     7.0\n",
       "7     8.0\n",
       "8     9.0\n",
       "9    10.0\n",
       "dtype: float64"
      ]
     },
     "execution_count": 7,
     "metadata": {},
     "output_type": "execute_result"
    }
   ],
   "source": [
    "Ser1"
   ]
  },
  {
   "cell_type": "code",
   "execution_count": 8,
   "id": "8a29fcd9-512d-434f-bab1-8656995a6f25",
   "metadata": {},
   "outputs": [],
   "source": [
    "# Q3. Create a Pandas DataFrame that contains the following data."
   ]
  },
  {
   "cell_type": "code",
   "execution_count": 9,
   "id": "f00ec8c1-c83b-43b0-ba5d-986b6f7d4828",
   "metadata": {},
   "outputs": [],
   "source": [
    "# pandas.DataFrame(data, index, columns)\n",
    "data1 = [['Alice',25,'Female'], ['Bob',30,'Male'],['Claire',27,'Female']]\n",
    "df1 = pd.DataFrame(data1,columns=['Name' ,'Age','Gender'])"
   ]
  },
  {
   "cell_type": "code",
   "execution_count": 10,
   "id": "501960ed-1695-4a0b-87ff-e93e729df5b7",
   "metadata": {},
   "outputs": [
    {
     "data": {
      "text/html": [
       "<div>\n",
       "<style scoped>\n",
       "    .dataframe tbody tr th:only-of-type {\n",
       "        vertical-align: middle;\n",
       "    }\n",
       "\n",
       "    .dataframe tbody tr th {\n",
       "        vertical-align: top;\n",
       "    }\n",
       "\n",
       "    .dataframe thead th {\n",
       "        text-align: right;\n",
       "    }\n",
       "</style>\n",
       "<table border=\"1\" class=\"dataframe\">\n",
       "  <thead>\n",
       "    <tr style=\"text-align: right;\">\n",
       "      <th></th>\n",
       "      <th>Name</th>\n",
       "      <th>Age</th>\n",
       "      <th>Gender</th>\n",
       "    </tr>\n",
       "  </thead>\n",
       "  <tbody>\n",
       "    <tr>\n",
       "      <th>0</th>\n",
       "      <td>Alice</td>\n",
       "      <td>25</td>\n",
       "      <td>Female</td>\n",
       "    </tr>\n",
       "    <tr>\n",
       "      <th>1</th>\n",
       "      <td>Bob</td>\n",
       "      <td>30</td>\n",
       "      <td>Male</td>\n",
       "    </tr>\n",
       "    <tr>\n",
       "      <th>2</th>\n",
       "      <td>Claire</td>\n",
       "      <td>27</td>\n",
       "      <td>Female</td>\n",
       "    </tr>\n",
       "  </tbody>\n",
       "</table>\n",
       "</div>"
      ],
      "text/plain": [
       "     Name  Age  Gender\n",
       "0   Alice   25  Female\n",
       "1     Bob   30    Male\n",
       "2  Claire   27  Female"
      ]
     },
     "execution_count": 10,
     "metadata": {},
     "output_type": "execute_result"
    }
   ],
   "source": [
    "df1"
   ]
  },
  {
   "cell_type": "code",
   "execution_count": 11,
   "id": "a89af57a-155a-426d-b6c5-816dd697c415",
   "metadata": {},
   "outputs": [],
   "source": [
    "# Q4. What is ‘DataFrame’ in pandas and how is it different from pandas.series? Explain with an example."
   ]
  },
  {
   "cell_type": "code",
   "execution_count": 12,
   "id": "254a908b-2ef4-4248-8e3d-fc776c91d784",
   "metadata": {},
   "outputs": [
    {
     "name": "stdout",
     "output_type": "stream",
     "text": [
      "Mon      22\n",
      "Tues     23\n",
      "Wed      23\n",
      "Thurs    24\n",
      "Fri      23\n",
      "Sat      22\n",
      "Sun      21\n",
      "Name: series_from_dict, dtype: int64\n"
     ]
    }
   ],
   "source": [
    "# Series\n",
    "# It is one dimensional.\n",
    "# It contain element of same type.\n",
    "# Once created , the size of series is immutable.\n",
    "# series = pd.Series(data=None, index=None, dtype=None, name=None)\n",
    "#Creating a Series from dict\n",
    "data = {'Mon': 22, 'Tues': 23, 'Wed': 23, 'Thurs': 24, 'Fri': 23, 'Sat': 22, 'Sun': 21}\n",
    "series = pd.Series(data=data, name='series_from_dict')\n",
    "print(series)"
   ]
  },
  {
   "cell_type": "code",
   "execution_count": 13,
   "id": "87dc0bff-1d52-4e77-a66c-9d968f73d81e",
   "metadata": {},
   "outputs": [
    {
     "name": "stdout",
     "output_type": "stream",
     "text": [
      "             Class 1  Class 2  Class 3\n",
      "math avg          22       45       32\n",
      "science avg       33       28       41\n",
      "english avg       38       36       47\n"
     ]
    }
   ],
   "source": [
    "# Dataframe\n",
    "# It is 2 dimensional.\n",
    "#  DataFrame elements can have different data types.\n",
    "# Size-mutable – Elements can be dropped or added in an existing DataFrame.\n",
    "# df = pd.DataFrame(data=None, index=None, columns=None, dtype=None)\n",
    "#Creating a DataFrame from a dictionary of lists\n",
    "data = {\n",
    "    \"Class 1\": [22, 33, 38],\n",
    "    \"Class 2\": [45, 28, 36], \n",
    "    \"Class 3\": [32, 41, 47]\n",
    "}\n",
    "df3 = pd.DataFrame(data=data, index=['math avg', 'science avg', 'english avg'])\n",
    "print(df3)"
   ]
  },
  {
   "cell_type": "code",
   "execution_count": 14,
   "id": "9a2c8680-fa40-44dc-a09a-2a7c8da8844b",
   "metadata": {},
   "outputs": [
    {
     "data": {
      "text/html": [
       "<div>\n",
       "<style scoped>\n",
       "    .dataframe tbody tr th:only-of-type {\n",
       "        vertical-align: middle;\n",
       "    }\n",
       "\n",
       "    .dataframe tbody tr th {\n",
       "        vertical-align: top;\n",
       "    }\n",
       "\n",
       "    .dataframe thead th {\n",
       "        text-align: right;\n",
       "    }\n",
       "</style>\n",
       "<table border=\"1\" class=\"dataframe\">\n",
       "  <thead>\n",
       "    <tr style=\"text-align: right;\">\n",
       "      <th></th>\n",
       "      <th>Class 1</th>\n",
       "      <th>Class 2</th>\n",
       "      <th>Class 3</th>\n",
       "    </tr>\n",
       "  </thead>\n",
       "  <tbody>\n",
       "    <tr>\n",
       "      <th>math avg</th>\n",
       "      <td>22</td>\n",
       "      <td>45</td>\n",
       "      <td>32</td>\n",
       "    </tr>\n",
       "  </tbody>\n",
       "</table>\n",
       "</div>"
      ],
      "text/plain": [
       "          Class 1  Class 2  Class 3\n",
       "math avg       22       45       32"
      ]
     },
     "execution_count": 14,
     "metadata": {},
     "output_type": "execute_result"
    }
   ],
   "source": [
    "# Q5. What are some common functions you can use to manipulate data in a Pandas DataFrame? Can \n",
    "# you give an example of when you might use one of these functions?\n",
    "# pd.read_csv\n",
    "# df.head()\n",
    "# df.tail()\n",
    "# df.shape\n",
    "# df.describe()\n",
    "# df.dropna()\n",
    "# loc \n",
    "# iloc\n",
    "# ex.\n",
    "df3.head(1)"
   ]
  },
  {
   "cell_type": "code",
   "execution_count": 15,
   "id": "a8e0ff8c-ece4-46f0-bd86-7362b57644ee",
   "metadata": {},
   "outputs": [],
   "source": [
    "# Q6. Which of the following is mutable in nature Series, DataFrame, Panel?"
   ]
  },
  {
   "cell_type": "code",
   "execution_count": 16,
   "id": "22b0153e-f6b3-4b2f-9366-5f7340917259",
   "metadata": {},
   "outputs": [],
   "source": [
    "# DataFrame is mutable.\n",
    "# Series is size immutable."
   ]
  },
  {
   "cell_type": "code",
   "execution_count": 17,
   "id": "1d7b1477-a2d2-4bfc-a628-bf47a80fece8",
   "metadata": {},
   "outputs": [],
   "source": [
    "# Q7. Create a DataFrame using multiple Series. Explain with an example."
   ]
  },
  {
   "cell_type": "code",
   "execution_count": 18,
   "id": "f9d1ce48-5e52-4aea-adc8-e1aa7396b4c8",
   "metadata": {},
   "outputs": [
    {
     "name": "stdout",
     "output_type": "stream",
     "text": [
      "             Class 1  Class 2  Class 3\n",
      "math avg          22       45       32\n",
      "science avg       33       28       41\n",
      "english avg       38       36       47\n"
     ]
    }
   ],
   "source": [
    "#Creating a DataFrame from a dictionary of Series\n",
    "data3 = pd.DataFrame({\n",
    "    \"Class 1\": pd.Series([22, 33, 38], index=[\"math avg\", \"science avg\",  \"english avg\"]),\n",
    "    \"Class 2\": pd.Series([45, 28, 36], index=[\"math avg\", \"science avg\",  \"english avg\"]),\n",
    "    \"Class 3\": pd.Series([32, 41, 47], index=[\"math avg\", \"science avg\",  \"english avg\"])\n",
    "})\n",
    "\n",
    "\n",
    "print(data3) "
   ]
  },
  {
   "cell_type": "code",
   "execution_count": null,
   "id": "878a9cda-971b-467d-9a4c-27fae6cb4106",
   "metadata": {},
   "outputs": [],
   "source": []
  }
 ],
 "metadata": {
  "kernelspec": {
   "display_name": "Python 3 (ipykernel)",
   "language": "python",
   "name": "python3"
  },
  "language_info": {
   "codemirror_mode": {
    "name": "ipython",
    "version": 3
   },
   "file_extension": ".py",
   "mimetype": "text/x-python",
   "name": "python",
   "nbconvert_exporter": "python",
   "pygments_lexer": "ipython3",
   "version": "3.10.8"
  }
 },
 "nbformat": 4,
 "nbformat_minor": 5
}
