{
 "cells": [
  {
   "cell_type": "code",
   "execution_count": 1,
   "id": "488c101c-36ff-48d4-a2d0-22835a8c3040",
   "metadata": {},
   "outputs": [],
   "source": [
    "# 10 feb assignment"
   ]
  },
  {
   "cell_type": "code",
   "execution_count": 2,
   "id": "b15485fc-da0e-46fc-91e5-f37fee8bd551",
   "metadata": {},
   "outputs": [],
   "source": [
    "# Q1. Which function is used to open a file? What are the different modes of opening a file? Explain each mode\n",
    "# of file opening."
   ]
  },
  {
   "cell_type": "code",
   "execution_count": 3,
   "id": "600e4af3-28c8-4235-a342-db36e6a638e3",
   "metadata": {},
   "outputs": [],
   "source": [
    "#  we use the open() method to open files.\n",
    "# different modes of opening files are:\n",
    "#   r\tOpen a file for reading. (default)\n",
    "#   w\tOpen a file for writing. Creates a new file if it does not exist or truncates the file if it exists.\n",
    "#   x\tOpen a file for exclusive creation. If the file already exists, the operation fails.\n",
    "#   a\tOpen a file for appending at the end of the file without truncating it. Creates a new file if it does not exist.\n",
    "#   t\tOpen in text mode. (default)\n",
    "#   b\tOpen in binary mode.\n",
    "#   +\tOpen a file for updating (reading and writing)"
   ]
  },
  {
   "cell_type": "code",
   "execution_count": 4,
   "id": "74c8fba5-f253-4da0-9db2-5b668a6a4d65",
   "metadata": {},
   "outputs": [],
   "source": [
    "# Q2. Why close() function is used? Why is it important to close a file?"
   ]
  },
  {
   "cell_type": "code",
   "execution_count": 5,
   "id": "9125b05a-2a56-44b6-b46d-26b92126f58e",
   "metadata": {},
   "outputs": [],
   "source": [
    "# When we are done with performing operations on the file, we need to properly close the file.\n",
    "# Closing a file will free up the resources that were tied with the file. \n",
    "# It is done using the close() method in Python."
   ]
  },
  {
   "cell_type": "code",
   "execution_count": 6,
   "id": "9a6cc73f-2725-43c9-a92c-b452b10e493b",
   "metadata": {},
   "outputs": [],
   "source": [
    "# Q3. Write a python program to create a text file. Write ‘I want to become a Data Scientist’ in that file. Then\n",
    "#   close the file. Open this file and read the content of the file."
   ]
  },
  {
   "cell_type": "code",
   "execution_count": 7,
   "id": "8a35926c-c2b0-4c5c-9fd4-f33dd8df8974",
   "metadata": {},
   "outputs": [],
   "source": [
    "f = open(\"dsc.txt\",'w')"
   ]
  },
  {
   "cell_type": "code",
   "execution_count": 8,
   "id": "37de3a09-5daa-4e6b-8697-b6c34b705c78",
   "metadata": {},
   "outputs": [
    {
     "data": {
      "text/plain": [
       "33"
      ]
     },
     "execution_count": 8,
     "metadata": {},
     "output_type": "execute_result"
    }
   ],
   "source": [
    "f.write('I want to become a Data Scientist')"
   ]
  },
  {
   "cell_type": "code",
   "execution_count": 9,
   "id": "3cde41df-1c99-4754-847e-ea39dd7c352a",
   "metadata": {},
   "outputs": [],
   "source": [
    "f.close()"
   ]
  },
  {
   "cell_type": "code",
   "execution_count": 10,
   "id": "1413b31d-ce52-43c2-8e5a-472f9af57a20",
   "metadata": {},
   "outputs": [],
   "source": [
    "data = open(\"dsc.txt\",'r')"
   ]
  },
  {
   "cell_type": "code",
   "execution_count": 11,
   "id": "c21f353f-71fb-40b5-9b58-0a4ed66e34d2",
   "metadata": {},
   "outputs": [
    {
     "data": {
      "text/plain": [
       "'I want to become a Data Scientist'"
      ]
     },
     "execution_count": 11,
     "metadata": {},
     "output_type": "execute_result"
    }
   ],
   "source": [
    "data.read()"
   ]
  },
  {
   "cell_type": "code",
   "execution_count": 12,
   "id": "85b521cf-5f9e-4312-8f50-939778020086",
   "metadata": {},
   "outputs": [],
   "source": [
    "# Q4. Explain the following with python code: read(), readline() and readlines()."
   ]
  },
  {
   "cell_type": "code",
   "execution_count": 13,
   "id": "b99ae17b-9571-4df2-b00d-86cc19416df5",
   "metadata": {},
   "outputs": [],
   "source": [
    "# Python readline() method will return a line from the file when called.\n",
    "data1 = open(\"dsc1.txt\",'w')"
   ]
  },
  {
   "cell_type": "code",
   "execution_count": 14,
   "id": "5360e730-52ac-4b0d-a587-736b2cac43f4",
   "metadata": {},
   "outputs": [
    {
     "data": {
      "text/plain": [
       "34"
      ]
     },
     "execution_count": 14,
     "metadata": {},
     "output_type": "execute_result"
    }
   ],
   "source": [
    "data1.write('I want to become a data scientist.')"
   ]
  },
  {
   "cell_type": "code",
   "execution_count": 15,
   "id": "1638bdca-c12a-41e4-955b-a5bbb0a3fb12",
   "metadata": {},
   "outputs": [
    {
     "data": {
      "text/plain": [
       "17"
      ]
     },
     "execution_count": 15,
     "metadata": {},
     "output_type": "execute_result"
    }
   ],
   "source": [
    "data1.write('I have a blue car')"
   ]
  },
  {
   "cell_type": "code",
   "execution_count": 16,
   "id": "c47621f3-9052-4e58-8b49-dde1abcd3d31",
   "metadata": {},
   "outputs": [],
   "source": [
    "data1.close()"
   ]
  },
  {
   "cell_type": "code",
   "execution_count": 17,
   "id": "fbb1a3f0-14da-4627-a7ae-4db64a88c3f8",
   "metadata": {},
   "outputs": [],
   "source": [
    "data_r = open(\"dsc1.txt\",'r')"
   ]
  },
  {
   "cell_type": "code",
   "execution_count": 18,
   "id": "0552d4af-e20e-43ed-98b4-e1cf5f5b51ec",
   "metadata": {},
   "outputs": [
    {
     "data": {
      "text/plain": [
       "'I want to become a data scientist.I have a blue car'"
      ]
     },
     "execution_count": 18,
     "metadata": {},
     "output_type": "execute_result"
    }
   ],
   "source": [
    "data_r.readline()"
   ]
  },
  {
   "cell_type": "code",
   "execution_count": 19,
   "id": "5ba91c40-d8e9-4ae6-8652-64620bf9648a",
   "metadata": {},
   "outputs": [],
   "source": [
    "# readlines() method will return all the lines in a file in the \n",
    "#format of a list where each element is a line in the file."
   ]
  },
  {
   "cell_type": "code",
   "execution_count": 20,
   "id": "70bf133b-16bd-48ce-855b-790992b5696a",
   "metadata": {},
   "outputs": [
    {
     "data": {
      "text/plain": [
       "0"
      ]
     },
     "execution_count": 20,
     "metadata": {},
     "output_type": "execute_result"
    }
   ],
   "source": [
    "data_r.seek(0)"
   ]
  },
  {
   "cell_type": "code",
   "execution_count": 21,
   "id": "d3de8e2e-3d32-4f68-8697-f4ff329eb53c",
   "metadata": {},
   "outputs": [
    {
     "data": {
      "text/plain": [
       "['I want to become a data scientist.I have a blue car']"
      ]
     },
     "execution_count": 21,
     "metadata": {},
     "output_type": "execute_result"
    }
   ],
   "source": [
    "data_r.readlines()"
   ]
  },
  {
   "cell_type": "code",
   "execution_count": 22,
   "id": "119a8760-83b7-4ed9-948a-314f39bb47b1",
   "metadata": {},
   "outputs": [],
   "source": [
    "# The read() method returns the specified number of bytes from the file. \n",
    "#  Default is -1 which means the whole file."
   ]
  },
  {
   "cell_type": "code",
   "execution_count": 23,
   "id": "0e8f6825-3a8b-4656-96a3-bcd96d346ef7",
   "metadata": {},
   "outputs": [
    {
     "data": {
      "text/plain": [
       "0"
      ]
     },
     "execution_count": 23,
     "metadata": {},
     "output_type": "execute_result"
    }
   ],
   "source": [
    "data_r.seek(0)"
   ]
  },
  {
   "cell_type": "code",
   "execution_count": 24,
   "id": "767f6481-5b5e-44a1-858c-85fec357faf4",
   "metadata": {},
   "outputs": [
    {
     "data": {
      "text/plain": [
       "'I want to become a data scientist.I have a blue car'"
      ]
     },
     "execution_count": 24,
     "metadata": {},
     "output_type": "execute_result"
    }
   ],
   "source": [
    "data_r.read()"
   ]
  },
  {
   "cell_type": "code",
   "execution_count": 25,
   "id": "16864275-b808-4dea-a637-debde208023e",
   "metadata": {},
   "outputs": [],
   "source": [
    "# Q5. Explain why with statement is used with open(). What is the advantage of using with statement and\n",
    "#     open() together?"
   ]
  },
  {
   "cell_type": "code",
   "execution_count": 26,
   "id": "df015f83-63db-4150-9d05-22d6f9772c17",
   "metadata": {},
   "outputs": [],
   "source": [
    "# The with statement works with the open() function to open a file. \n",
    "# Unlike open() where you have to close the file with the close() method, \n",
    "# the with statement closes the file for you without you telling it to. \n",
    "# This is because the with statement calls 2 built-in methods behind the scene – __enter()__ and __exit()__ ."
   ]
  },
  {
   "cell_type": "code",
   "execution_count": 27,
   "id": "e8ffb08b-efe3-41de-80b6-8052747e099b",
   "metadata": {},
   "outputs": [],
   "source": [
    "# Q6. Explain the write() and writelines() functions. Give a suitable example."
   ]
  },
  {
   "cell_type": "code",
   "execution_count": 28,
   "id": "e1a246b8-2afb-4d2f-a1eb-465cdabdc326",
   "metadata": {},
   "outputs": [
    {
     "name": "stdin",
     "output_type": "stream",
     "text": [
      "Enter the name of the employee:  Aman\n",
      "Enter the name of the employee:  Akash\n",
      "Enter the name of the employee:  Rahul\n"
     ]
    },
    {
     "name": "stdout",
     "output_type": "stream",
     "text": [
      "Data is written into the file.\n"
     ]
    }
   ],
   "source": [
    "#The write() function will write the content in the file without adding any extra characters.\n",
    "file = open(\"Employees.txt\", \"w\")\n",
    "\n",
    "for i in range(3):\n",
    "    name = input(\"Enter the name of the employee: \")\n",
    "    file.write(name)\n",
    "    file.write(\"\\n\")\n",
    "\t\n",
    "file.close()\n",
    "\n",
    "print(\"Data is written into the file.\")\n"
   ]
  },
  {
   "cell_type": "code",
   "execution_count": 29,
   "id": "c449b530-3383-42d3-aa2c-3d2d84a60c00",
   "metadata": {},
   "outputs": [],
   "source": [
    "# writelines() write all the strings present in the list \"list_of_lines\" \n",
    "# referenced by file object."
   ]
  },
  {
   "cell_type": "code",
   "execution_count": 30,
   "id": "a6103a42-9b99-4ad5-939b-19820e3af083",
   "metadata": {},
   "outputs": [
    {
     "name": "stdin",
     "output_type": "stream",
     "text": [
      "Enter the name of the employee:  Akash\n",
      "Enter the name of the employee:  Aman\n",
      "Enter the name of the employee:  Rahul\n"
     ]
    },
    {
     "name": "stdout",
     "output_type": "stream",
     "text": [
      "Data is written into the file.\n"
     ]
    }
   ],
   "source": [
    "file1 = open(\"Employees.txt\", \"w\")\n",
    "lst = []\n",
    "for i in range(3):\n",
    "\tname = input(\"Enter the name of the employee: \")\n",
    "\tlst.append(name + '\\n')\n",
    "\t\n",
    "file1.writelines(lst)\n",
    "file1.close()\n",
    "print(\"Data is written into the file.\")\n"
   ]
  },
  {
   "cell_type": "code",
   "execution_count": null,
   "id": "a7967fea-9bb9-4a82-8616-92892f5085bf",
   "metadata": {},
   "outputs": [],
   "source": []
  }
 ],
 "metadata": {
  "kernelspec": {
   "display_name": "Python 3 (ipykernel)",
   "language": "python",
   "name": "python3"
  },
  "language_info": {
   "codemirror_mode": {
    "name": "ipython",
    "version": 3
   },
   "file_extension": ".py",
   "mimetype": "text/x-python",
   "name": "python",
   "nbconvert_exporter": "python",
   "pygments_lexer": "ipython3",
   "version": "3.10.8"
  }
 },
 "nbformat": 4,
 "nbformat_minor": 5
}
