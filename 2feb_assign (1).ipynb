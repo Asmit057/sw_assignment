{
 "cells": [
  {
   "cell_type": "code",
   "execution_count": null,
   "id": "e4ceb054-d197-4ec8-9dbb-5174e728c1a1",
   "metadata": {},
   "outputs": [],
   "source": [
    "# 1. Explain with example when to use for and while loop"
   ]
  },
  {
   "cell_type": "code",
   "execution_count": null,
   "id": "0529a8af-6e60-41d5-a11f-9d1982bfb429",
   "metadata": {},
   "outputs": [],
   "source": [
    "# For loop is used when no. of iteration is already known\n",
    "#Ex. Print no. from 1 to 10\n",
    "for i in range(1,11):\n",
    "    print(i)"
   ]
  },
  {
   "cell_type": "code",
   "execution_count": 3,
   "id": "3b85b93c-23f5-427d-b2b6-bf9f206fe116",
   "metadata": {},
   "outputs": [
    {
     "name": "stdin",
     "output_type": "stream",
     "text": [
      "Enter a number:  12\n",
      "Enter a number:  12\n",
      "Enter a number:  12\n",
      "Enter a number:  0\n"
     ]
    },
    {
     "name": "stdout",
     "output_type": "stream",
     "text": [
      "total = 36\n"
     ]
    }
   ],
   "source": [
    "# While loop is used when no. of iteration is not known.\n",
    "# Ex.\n",
    "total = 0\n",
    "\n",
    "number = int(input('Enter a number: '))\n",
    "\n",
    "# add numbers until number is zero\n",
    "while number != 0:\n",
    "    total += number    \n",
    "    \n",
    "    # take integer input again\n",
    "    number = int(input('Enter a number: '))\n",
    "    \n",
    "\n",
    "print('total =', total)"
   ]
  },
  {
   "cell_type": "code",
   "execution_count": 1,
   "id": "6eb724b3-8c5d-4f4b-b27b-69776238f92e",
   "metadata": {},
   "outputs": [],
   "source": [
    "# 2.  Write a python program to print the sum and product of the first 10 natural numbers using for \n",
    "#     and while loop"
   ]
  },
  {
   "cell_type": "code",
   "execution_count": 3,
   "id": "c3f2c460-6382-4015-9698-cdd5b45ffaea",
   "metadata": {},
   "outputs": [
    {
     "name": "stdout",
     "output_type": "stream",
     "text": [
      "sum is  55\n",
      "product is  3628800\n"
     ]
    }
   ],
   "source": [
    "sum=0\n",
    "product=1\n",
    "for i in range(1,11):\n",
    "    sum +=i\n",
    "    product *=i\n",
    "print(\"sum is \",sum)\n",
    "print(\"product is \", product)\n",
    "    "
   ]
  },
  {
   "cell_type": "code",
   "execution_count": 9,
   "id": "8b63a2c3-5cd0-44b0-9d68-df5d36ea53d0",
   "metadata": {},
   "outputs": [
    {
     "name": "stdin",
     "output_type": "stream",
     "text": [
      "enter unit consumed in month 310\n"
     ]
    },
    {
     "name": "stdout",
     "output_type": "stream",
     "text": [
      "amount paid for 1 month  2250.0\n"
     ]
    }
   ],
   "source": [
    "# 3. Create a python program to compute electricity bill.\n",
    "x = int(input(\"enter unit consumed in month\"))\n",
    "\n",
    "if x<=100:\n",
    "    res1 = x*4.5\n",
    "    print(\"amount paid for 1 month \", res1)\n",
    "elif x>100 and x<=200:\n",
    "    y= x-100\n",
    "    res2 =  100*4.5+ y*6 \n",
    "    print(\"amount paid for 1 month \" , res2)\n",
    "elif x>200 and x<=300:\n",
    "    z = x-200\n",
    "    res3 = 100*4.5 +100*6 + z*10\n",
    "    print(\"amount paid for 1 month \" ,res3)\n",
    "else:\n",
    "    k = x-300\n",
    "    res4 = 100*4.5 +100*6 + 100*10 + k*20\n",
    "    print(\"amount paid for 1 month \" , res4)\n",
    "    "
   ]
  },
  {
   "cell_type": "code",
   "execution_count": 10,
   "id": "4be4f11b-8131-448b-93d3-21d5f2f060c5",
   "metadata": {},
   "outputs": [],
   "source": [
    "# 4. Create a list of number from 1 to 100. Calulate the cube and check divisibility\n",
    "#  by 4 and 5 and append to list"
   ]
  },
  {
   "cell_type": "code",
   "execution_count": 11,
   "id": "0a155b0b-ee27-40a0-8d5b-801bba9f2c59",
   "metadata": {},
   "outputs": [],
   "source": [
    "l1 =[]\n",
    "for i in range(1,101):\n",
    "    l1.append(i)\n",
    "    \n"
   ]
  },
  {
   "cell_type": "code",
   "execution_count": 12,
   "id": "2e9d11ed-9c8e-4bfd-bfd7-3681f7318827",
   "metadata": {},
   "outputs": [
    {
     "name": "stdout",
     "output_type": "stream",
     "text": [
      "[1, 2, 3, 4, 5, 6, 7, 8, 9, 10, 11, 12, 13, 14, 15, 16, 17, 18, 19, 20, 21, 22, 23, 24, 25, 26, 27, 28, 29, 30, 31, 32, 33, 34, 35, 36, 37, 38, 39, 40, 41, 42, 43, 44, 45, 46, 47, 48, 49, 50, 51, 52, 53, 54, 55, 56, 57, 58, 59, 60, 61, 62, 63, 64, 65, 66, 67, 68, 69, 70, 71, 72, 73, 74, 75, 76, 77, 78, 79, 80, 81, 82, 83, 84, 85, 86, 87, 88, 89, 90, 91, 92, 93, 94, 95, 96, 97, 98, 99, 100]\n"
     ]
    }
   ],
   "source": [
    "print(l1)"
   ]
  },
  {
   "cell_type": "code",
   "execution_count": 15,
   "id": "9a31dcde-0983-47c8-b110-fb8a610d7918",
   "metadata": {},
   "outputs": [],
   "source": [
    "# using for loop\n",
    "l2 =[]\n",
    "for i in range(len(l1)):\n",
    "    l2.append(l1[i]**3)"
   ]
  },
  {
   "cell_type": "code",
   "execution_count": 17,
   "id": "f5e9dbef-2ba9-4ee1-a304-6c36639686f6",
   "metadata": {},
   "outputs": [
    {
     "name": "stdout",
     "output_type": "stream",
     "text": [
      "[1, 8, 27, 64, 125, 216, 343, 512, 729, 1000, 1331, 1728, 2197, 2744, 3375, 4096, 4913, 5832, 6859, 8000, 9261, 10648, 12167, 13824, 15625, 17576, 19683, 21952, 24389, 27000, 29791, 32768, 35937, 39304, 42875, 46656, 50653, 54872, 59319, 64000, 68921, 74088, 79507, 85184, 91125, 97336, 103823, 110592, 117649, 125000, 132651, 140608, 148877, 157464, 166375, 175616, 185193, 195112, 205379, 216000, 226981, 238328, 250047, 262144, 274625, 287496, 300763, 314432, 328509, 343000, 357911, 373248, 389017, 405224, 421875, 438976, 456533, 474552, 493039, 512000, 531441, 551368, 571787, 592704, 614125, 636056, 658503, 681472, 704969, 729000, 753571, 778688, 804357, 830584, 857375, 884736, 912673, 941192, 970299, 1000000]\n"
     ]
    }
   ],
   "source": [
    "print(l2)"
   ]
  },
  {
   "cell_type": "code",
   "execution_count": 19,
   "id": "fd6104e7-3d7d-49e5-bd94-7b70fba91e7a",
   "metadata": {},
   "outputs": [
    {
     "name": "stdout",
     "output_type": "stream",
     "text": [
      "[1, 8, 27, 64, 125, 216, 343, 512, 729, 1000, 1331, 1728, 2197, 2744, 3375, 4096, 4913, 5832, 6859, 8000, 9261, 10648, 12167, 13824, 15625, 17576, 19683, 21952, 24389, 27000, 29791, 32768, 35937, 39304, 42875, 46656, 50653, 54872, 59319, 64000, 68921, 74088, 79507, 85184, 91125, 97336, 103823, 110592, 117649, 125000, 132651, 140608, 148877, 157464, 166375, 175616, 185193, 195112, 205379, 216000, 226981, 238328, 250047, 262144, 274625, 287496, 300763, 314432, 328509, 343000, 357911, 373248, 389017, 405224, 421875, 438976, 456533, 474552, 493039, 512000, 531441, 551368, 571787, 592704, 614125, 636056, 658503, 681472, 704969, 729000, 753571, 778688, 804357, 830584, 857375, 884736, 912673, 941192, 970299, 1000000]\n"
     ]
    }
   ],
   "source": [
    "# using while loop\n",
    "i=1\n",
    "l3 = []\n",
    "while i<=100:\n",
    "    l3.append(i**3)\n",
    "    i +=1\n",
    "print(l3)"
   ]
  },
  {
   "cell_type": "code",
   "execution_count": 20,
   "id": "77f18a3e-030e-4e76-85ee-c0737d113e31",
   "metadata": {},
   "outputs": [
    {
     "name": "stdout",
     "output_type": "stream",
     "text": [
      "[8, 64, 125, 216, 512, 1000, 1728, 2744, 3375, 4096, 5832, 8000, 10648, 13824, 15625, 17576, 21952, 27000, 32768, 39304, 42875, 46656, 54872, 64000, 74088, 85184, 91125, 97336, 110592, 125000, 140608, 157464, 166375, 175616, 195112, 216000, 238328, 262144, 274625, 287496, 314432, 343000, 373248, 405224, 421875, 438976, 474552, 512000, 551368, 592704, 614125, 636056, 681472, 729000, 778688, 830584, 857375, 884736, 941192, 1000000]\n"
     ]
    }
   ],
   "source": [
    "# divisibility by 4 or 5\n",
    "l4 = []\n",
    "for i in range(len(l3)):\n",
    "    if l3[i]%4==0 or l3[i]%5==0:\n",
    "        l4.append(l3[i])\n",
    "print(l4)"
   ]
  },
  {
   "cell_type": "code",
   "execution_count": 24,
   "id": "5f54f747-63b0-41a8-935c-9356877a3b70",
   "metadata": {},
   "outputs": [
    {
     "name": "stdout",
     "output_type": "stream",
     "text": [
      "no. of vowels is  12\n"
     ]
    }
   ],
   "source": [
    "# 5. Filter the count of vowels in the string\n",
    "count=0\n",
    "string  = \"I want to become a data scientist\"\n",
    "string = string.lower()\n",
    "vowels =\"aeiou\"\n",
    "for i in string:\n",
    "    if i in vowels:\n",
    "        count +=1\n",
    "print(\"no. of vowels is \",count)"
   ]
  },
  {
   "cell_type": "code",
   "execution_count": null,
   "id": "a37ac845-3bf2-4eb4-a5f4-d1601b7d7890",
   "metadata": {},
   "outputs": [],
   "source": []
  }
 ],
 "metadata": {
  "kernelspec": {
   "display_name": "Python 3 (ipykernel)",
   "language": "python",
   "name": "python3"
  },
  "language_info": {
   "codemirror_mode": {
    "name": "ipython",
    "version": 3
   },
   "file_extension": ".py",
   "mimetype": "text/x-python",
   "name": "python",
   "nbconvert_exporter": "python",
   "pygments_lexer": "ipython3",
   "version": "3.10.8"
  }
 },
 "nbformat": 4,
 "nbformat_minor": 5
}
