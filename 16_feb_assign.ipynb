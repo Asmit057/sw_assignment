{
 "cells": [
  {
   "cell_type": "code",
   "execution_count": 15,
   "id": "3482a527-b239-49cb-922f-22391375429e",
   "metadata": {},
   "outputs": [],
   "source": [
    "# 16 feb assign"
   ]
  },
  {
   "cell_type": "code",
   "execution_count": 16,
   "id": "43275b14-71d2-4f0e-8e50-0c480659dd93",
   "metadata": {},
   "outputs": [],
   "source": [
    "# Q1. What is a database? Differentiate between SQL and NoSQL databases."
   ]
  },
  {
   "cell_type": "code",
   "execution_count": 17,
   "id": "c53b663f-deb9-4f05-8833-a451dddbad6b",
   "metadata": {},
   "outputs": [],
   "source": [
    "# A database is an organized collection of structured information, or data, \n",
    "# typically stored electronically in a computer system.\n",
    "# A database is usually controlled by a database management system (DBMS). \n",
    "#SQL\n",
    "# RELATIONAL DATABASE MANAGEMENT SYSTEM (RDBMS)\n",
    "# These databases have fixed or static or predefined schema\n",
    "# These databases are not suited for hierarchical data storage.\n",
    "# These databases are best suited for complex queries\n",
    "# Vertically Scalable\n",
    "# Follows ACID property\n",
    "# Examples: MySQL, PostgreSQL, Oracle, MS-SQL Server, etc\n",
    "# NoSql\n",
    "# Non-relational or distributed database system.\n",
    "# They have dynamic schema\n",
    "# These databases are best suited for hierarchical data storage.\n",
    "# These databases are not so good for complex queries\n",
    "# Horizontally scalable\n",
    "# Follows CAP(consistency, availability, partition tolerance)\n",
    "# Examples: MongoDB, GraphQL, HBase, Neo4j, Cassandra, etc"
   ]
  },
  {
   "cell_type": "code",
   "execution_count": 18,
   "id": "89ffe5e0-fc6a-42f8-86b0-be9392605e03",
   "metadata": {},
   "outputs": [],
   "source": [
    "# Q2. What is DDL? Explain why CREATE, DROP, ALTER, and TRUNCATE are used with an example.\n"
   ]
  },
  {
   "cell_type": "code",
   "execution_count": 19,
   "id": "7effebc4-bb2a-442d-9980-625a6874161e",
   "metadata": {},
   "outputs": [],
   "source": [
    "# Data Definition Language(DDL) is a subset of SQL and a part of DBMS(Database Management System).\n",
    "# DDL consist of Commands to commands like CREATE, ALTER, TRUNCATE and DROP.\n",
    "# These commands are used to create or modify the tables in SQL.\n",
    "# CREATE :\n",
    "# This command is used to create a new table in SQL. \n",
    "# The user has to give information like table name, column names, and their datatypes.\n",
    "# Example –\n",
    "# We need to create a table for storing Student information of a particular College.\n",
    "# Create syntax would be as below.\n",
    "# CREATE TABLE Student_info\n",
    "# (\n",
    "# College_Id number(2),\n",
    "# College_name varchar(30),\n",
    "# Branch varchar(10)\n",
    "# );\n",
    "# ALTER :\n",
    "# This command is used to add, delete or change columns in the existing table.\n",
    "# The user needs to know the existing table name and can do add, delete or modify tasks easily.\n",
    "# Example –\n",
    "# In our Student_info table, we want to add a new column for CGPA. \n",
    "# The syntax would be as below as follows.\n",
    "# ALTER TABLE Student_info\n",
    "# ADD CGPA number;\n",
    "# TRUNCATE :\n",
    "# This command is used to remove all rows from the table, but the structure of the table still exists\n",
    "# The College Authority wants to remove the details of all students for new\n",
    "# batches but wants to keep the table structure. The command they can use is as follows.\n",
    "\n",
    "# TRUNCATE TABLE Student_info;\n",
    "# DROP :\n",
    "# This command is used to remove an existing table along with its structure from the Database.\n",
    "# Example –\n",
    "# If the College Authority wants to change their Database by deleting the Student_info Table. \n",
    "\n",
    "# DROP TABLE Student_info;"
   ]
  },
  {
   "cell_type": "code",
   "execution_count": 20,
   "id": "797558dc-32ec-4924-887e-ec0fbd321128",
   "metadata": {},
   "outputs": [],
   "source": [
    "# Q3. What is DML? Explain INSERT, UPDATE, and DELETE with an example."
   ]
  },
  {
   "cell_type": "code",
   "execution_count": 21,
   "id": "54218e05-ab11-4e08-b836-2fbb994447f9",
   "metadata": {},
   "outputs": [],
   "source": [
    "# The SQL commands that deals with the manipulation of data present in the database belong to DML \n",
    "# or Data Manipulation Language and this includes most of the SQL statements.\n",
    "# It is the component of the SQL statement that controls access to data and to the database."
   ]
  },
  {
   "cell_type": "code",
   "execution_count": 22,
   "id": "95ba6f09-6711-46ef-a992-55e1cca55922",
   "metadata": {},
   "outputs": [],
   "source": [
    "# SELECT\n",
    "# The SQL commands that deals with the manipulation of data present in the database belong to DML or Data Manipulation Language and this includes most of the SQL statements. \n",
    "#It is the component of the SQL statement that controls access to data and to the database.\n",
    "# INSERT DML Command\n",
    "# INSERT is another most important data manipulation command in Structured Query Language,\n",
    "# which allows users to insert data in database tables.\n",
    "# Example : This example describes how to insert the record in the database table.\n",
    "# INSERT INTO Student (Stu_id, Stu_Name, Stu_Marks, Stu_Age) VALUES (104, Anmol, 89, 19);\n",
    "# UPDATE DML Command\n",
    "# UPDATE is another most important data manipulation command in Structured Query Language, \n",
    "# which allows users to update or modify the existing data in database tables.\n",
    "# Example\n",
    "# Suppose, you want to update the Product_Price of the product whose Product_Id is P102.\n",
    "# To do this, you have to write the following DML UPDATE command:\n",
    "# UPDATE Product SET Product_Price = 80 WHERE Product_Id = 'P102' ;  \n",
    "# DELETE DML Command\n",
    "# DELETE is a DML command which allows SQL users\n",
    "# to remove single or multiple existing records from the database tables.\n",
    "# Example\n",
    "# Suppose, you want to delete that product from the Product table whose Product_Id is P203.\n",
    "# To do this, you have to write the following DML DELETE command:\n",
    "\n",
    "# DELETE FROM Product WHERE Product_Id = 'P202' ;  "
   ]
  },
  {
   "cell_type": "code",
   "execution_count": 23,
   "id": "150e9291-40ed-4060-8dbd-9d426b6bc574",
   "metadata": {},
   "outputs": [],
   "source": [
    "# Q4. What is DQL? Explain SELECT with an example.\n",
    "# DQL statements are used for performing queries on the data within schema objects. \n",
    "# The purpose of the DQL Command is to get some schema relation based on the query passed to it.\n",
    "#  SELECT\n",
    "#  This is the same as the projection operation of relational algebra. \n",
    "#  It is used to select the attribute based on the condition described by WHERE clause.\n",
    "# Example\n",
    "# SELECT emp_name  \n",
    "# FROM employee  \n",
    "# WHERE age > 20;  "
   ]
  },
  {
   "cell_type": "code",
   "execution_count": 24,
   "id": "c7b74aee-a0d9-4bce-88af-57f42b308bff",
   "metadata": {},
   "outputs": [],
   "source": [
    "# Q5. Explain Primary Key and Foreign Key."
   ]
  },
  {
   "cell_type": "code",
   "execution_count": 25,
   "id": "177e3ba5-181c-4046-885c-d0a27f983987",
   "metadata": {},
   "outputs": [],
   "source": [
    "# Primary key\n",
    "# The primary key is a unique or non-null key that uniquely identifies every record in a table or relation.\n",
    "# The primary key column can't store duplicate values. It is also called a minimal super key; \n",
    "# therefore, we cannot specify more than one primary key in any relationship.\n",
    "# Foreign key\n",
    "# The foreign key is a group of one or more columns in a database to uniquely identify another database record\n",
    "# in some other table to maintain the referential integrity.\n",
    "# It is also known as the referencing key that establishes a relationship\n",
    "# between two different tables in a database.\n",
    "# . A foreign key always matches the primary key column in another table."
   ]
  },
  {
   "cell_type": "code",
   "execution_count": 26,
   "id": "681332bf-0be3-4469-8f57-af7c0dfebf3e",
   "metadata": {},
   "outputs": [],
   "source": [
    "# Q6. Write a python code to connect MySQL to python. Explain the cursor() and execute() method.\n",
    "# import mysql.connector\n",
    "# mydb = mysql.connector.connect(\n",
    "#  host=\"localhost\",\n",
    "#  user=\"abc\",\n",
    "#  password=\"password\"\n",
    "# )\n",
    "# mycursor =mydb.cursor()\n",
    "# mycursor.execute(\"CREATE DATABASE if not exists test2\")\n",
    "# mydb.close()"
   ]
  },
  {
   "cell_type": "code",
   "execution_count": 27,
   "id": "3bf12b1f-8837-4353-816d-c03fff3c5d3f",
   "metadata": {},
   "outputs": [],
   "source": [
    "# cursor()\n",
    "# Allows Python code to execute PostgreSQL command in a database session.\n",
    "# Cursors are created by the connection.cursor() method: they are bound to the connection \n",
    "# for the entire lifetime and all the commands are executed in the context\n",
    "# of the database session wrapped by the connection.\n",
    "# execute()\n",
    "# This method executes the given database operation (query or command).\n",
    "# The parameters found in the tuple or dictionary params are bound to the variables in the operation."
   ]
  },
  {
   "cell_type": "code",
   "execution_count": 28,
   "id": "63693c96-b3ce-41d5-8433-dfdf39c1c4ad",
   "metadata": {},
   "outputs": [],
   "source": [
    "# Q7. Give the order of execution of SQL clauses in an SQL query.\n",
    "# The order in which the clauses in queries are executed is as follows:\n",
    "\n",
    "# 1. FROM/JOIN: The FROM and/or JOIN clauses are executed first to determine the data of interest.\n",
    "\n",
    "# 2. WHERE: The WHERE clause is executed to filter out records that do not meet the constraints.\n",
    "\n",
    "# 3. GROUP BY: The GROUP BY clause is executed to group the data based on the values in one or more columns.\n",
    "\n",
    "# 4. HAVING: The HAVING clause is executed to remove the created grouped records that don’t meet the constraints.\n",
    "\n",
    "# 5. SELECT: The SELECT clause is executed to derive all desired columns and expressions.\n",
    "\n",
    "# 6. ORDER BY: The ORDER BY clause is executed to sort the derived values in ascending or descending order.\n",
    "\n",
    "# 7. LIMIT/OFFSET: Finally, the LIMIT and/or OFFSET clauses are executed to keep or skip a specified number of rows."
   ]
  },
  {
   "cell_type": "code",
   "execution_count": null,
   "id": "ce94969c-1fdf-4efd-8199-62c4ddef3645",
   "metadata": {},
   "outputs": [],
   "source": []
  }
 ],
 "metadata": {
  "kernelspec": {
   "display_name": "Python 3 (ipykernel)",
   "language": "python",
   "name": "python3"
  },
  "language_info": {
   "codemirror_mode": {
    "name": "ipython",
    "version": 3
   },
   "file_extension": ".py",
   "mimetype": "text/x-python",
   "name": "python",
   "nbconvert_exporter": "python",
   "pygments_lexer": "ipython3",
   "version": "3.10.8"
  }
 },
 "nbformat": 4,
 "nbformat_minor": 5
}
