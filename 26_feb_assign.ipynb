{
 "cells": [
  {
   "cell_type": "code",
   "execution_count": 11,
   "id": "b52c7b5a-520c-4e0c-8f0e-9c212b0223b4",
   "metadata": {},
   "outputs": [],
   "source": [
    "# 26 february"
   ]
  },
  {
   "cell_type": "code",
   "execution_count": 12,
   "id": "fce763a8-9d69-49d1-bb2f-dec40961e178",
   "metadata": {},
   "outputs": [],
   "source": [
    "# Q1. Is there any difference in the data type of variables list_ and array_list? If there is then write a code \n",
    "# to print the data types of both the variables."
   ]
  },
  {
   "cell_type": "code",
   "execution_count": 13,
   "id": "8012e1a6-bdf5-4287-a63d-83b8c108d15c",
   "metadata": {},
   "outputs": [],
   "source": [
    "import numpy as np"
   ]
  },
  {
   "cell_type": "code",
   "execution_count": 14,
   "id": "cb747e18-44a5-4c10-82be-c8262dcef0aa",
   "metadata": {},
   "outputs": [
    {
     "name": "stdout",
     "output_type": "stream",
     "text": [
      "<class 'list'>\n",
      "<class 'numpy.ndarray'>\n"
     ]
    }
   ],
   "source": [
    "list1= ['1','2','3','4','5']\n",
    "\n",
    "array_list = np.array(object = list)\n",
    "print(type(list1))\n",
    "print(type(array_list))"
   ]
  },
  {
   "cell_type": "code",
   "execution_count": 15,
   "id": "7aecda5a-9ed0-4092-8955-7e389c322a34",
   "metadata": {},
   "outputs": [],
   "source": [
    "# Array stores elements of similar types. If we try to store elements of different types, it will throw an error.\n",
    "# We can store elements of different types in the list."
   ]
  },
  {
   "cell_type": "code",
   "execution_count": 16,
   "id": "e50bb76d-b8dc-4bb3-9006-b3f06644fe5c",
   "metadata": {},
   "outputs": [],
   "source": [
    "# Q2. Write a code to print the data type of each and every element of both the variables list_ and \n",
    "# arr_list."
   ]
  },
  {
   "cell_type": "code",
   "execution_count": 17,
   "id": "75bab609-0c9c-4d5f-9099-7fcb9494d85a",
   "metadata": {},
   "outputs": [
    {
     "name": "stdout",
     "output_type": "stream",
     "text": [
      "type of list\n",
      "<class 'int'>\n",
      "<class 'float'>\n",
      "<class 'int'>\n",
      "<class 'float'>\n",
      "<class 'int'>\n",
      "type of array_list\n",
      "<class 'numpy.float64'>\n",
      "<class 'numpy.float64'>\n",
      "<class 'numpy.float64'>\n",
      "<class 'numpy.float64'>\n",
      "<class 'numpy.float64'>\n"
     ]
    }
   ],
   "source": [
    "list1= [1,2.5,3,4.023,5]\n",
    "print(\"type of list\")\n",
    "array_list = np.array(object = list1)\n",
    "for i in list1:\n",
    "    print(type(i))\n",
    "    \n",
    "print(\"type of array_list\")\n",
    "for j in array_list:\n",
    "    print(type(j))"
   ]
  },
  {
   "cell_type": "code",
   "execution_count": 18,
   "id": "3f339b5d-8cad-4b97-8fd6-f749309f7977",
   "metadata": {},
   "outputs": [],
   "source": [
    "# Q3. Considering the following changes in the variable, array_list.\n",
    "# Will there be any difference in the data type of the elements present in both the variables, list_ and \n",
    "# arra_list? If so then print the data types of each and every element present in both the variables, list_ \n",
    "# and arra_list."
   ]
  },
  {
   "cell_type": "code",
   "execution_count": 19,
   "id": "27c95272-7a11-404e-9231-054e3e40d0d3",
   "metadata": {},
   "outputs": [],
   "source": [
    "list_ = [ '1','2','3','4','5']\n",
    "array_list = np.array(object = list_, dtype = int)"
   ]
  },
  {
   "cell_type": "code",
   "execution_count": 20,
   "id": "88020694-9fe8-4185-8bbb-90613e697036",
   "metadata": {},
   "outputs": [
    {
     "data": {
      "text/plain": [
       "array([1, 2, 3, 4, 5])"
      ]
     },
     "execution_count": 20,
     "metadata": {},
     "output_type": "execute_result"
    }
   ],
   "source": [
    "array_list"
   ]
  },
  {
   "cell_type": "code",
   "execution_count": 21,
   "id": "96f0e787-7a87-49d3-a3ff-ac404c915a71",
   "metadata": {},
   "outputs": [
    {
     "name": "stdout",
     "output_type": "stream",
     "text": [
      "type of list_ \n",
      "<class 'str'>\n",
      "<class 'str'>\n",
      "<class 'str'>\n",
      "<class 'str'>\n",
      "<class 'str'>\n",
      "type of array_list \n",
      "<class 'numpy.int64'>\n",
      "<class 'numpy.int64'>\n",
      "<class 'numpy.int64'>\n",
      "<class 'numpy.int64'>\n",
      "<class 'numpy.int64'>\n"
     ]
    }
   ],
   "source": [
    "# Yes the array_list have all elements integer type.\n",
    "print(\"type of list_ \")\n",
    "for i in list_:\n",
    "    print(type(i))\n",
    "    \n",
    "print(\"type of array_list \")\n",
    "for i in array_list:\n",
    "    print(type(i))"
   ]
  },
  {
   "cell_type": "code",
   "execution_count": 22,
   "id": "d0173f55-9dcf-4490-ae95-a36aa66bc4e0",
   "metadata": {},
   "outputs": [],
   "source": [
    "# Q4. Write a code to find the following characteristics of variable, num_array:\n",
    "# (i) shape\n",
    "# (ii) size"
   ]
  },
  {
   "cell_type": "code",
   "execution_count": 23,
   "id": "54e6a339-2d8c-4375-ae5c-36bb142ab72a",
   "metadata": {},
   "outputs": [],
   "source": [
    "import numpy as np\n",
    "num_list = [ [ 1 , 2 , 3 ] , [ 4 , 5 , 6 ] ]\n",
    "num_array = np.array(object = num_list)"
   ]
  },
  {
   "cell_type": "code",
   "execution_count": 24,
   "id": "d2f82d62-1c66-463f-b567-9c303889c0f3",
   "metadata": {},
   "outputs": [
    {
     "data": {
      "text/plain": [
       "(2, 3)"
      ]
     },
     "execution_count": 24,
     "metadata": {},
     "output_type": "execute_result"
    }
   ],
   "source": [
    "num_array.shape"
   ]
  },
  {
   "cell_type": "code",
   "execution_count": 25,
   "id": "edc0b1f3-ac31-4c21-827d-bd2b775b9b7c",
   "metadata": {},
   "outputs": [
    {
     "data": {
      "text/plain": [
       "6"
      ]
     },
     "execution_count": 25,
     "metadata": {},
     "output_type": "execute_result"
    }
   ],
   "source": [
    "num_array.size"
   ]
  },
  {
   "cell_type": "code",
   "execution_count": 26,
   "id": "79e6baed-f68b-4d97-95c0-e28a3c5318a1",
   "metadata": {},
   "outputs": [],
   "source": [
    "# Q5. Write a code to create numpy array of 3*3 matrix containing zeros only, using a numpy array \n",
    "# creation function."
   ]
  },
  {
   "cell_type": "code",
   "execution_count": 27,
   "id": "27a08fa9-fe56-4a3e-acdf-84f45e2b3110",
   "metadata": {},
   "outputs": [
    {
     "data": {
      "text/plain": [
       "array([[0., 0., 0.],\n",
       "       [0., 0., 0.],\n",
       "       [0., 0., 0.]])"
      ]
     },
     "execution_count": 27,
     "metadata": {},
     "output_type": "execute_result"
    }
   ],
   "source": [
    "np.zeros((3,3))"
   ]
  },
  {
   "cell_type": "code",
   "execution_count": 28,
   "id": "8975bcf0-507d-4655-b964-2f19c1f69c31",
   "metadata": {},
   "outputs": [],
   "source": [
    "# Q6. Create an identity matrix of shape (5,5) using numpy functions?"
   ]
  },
  {
   "cell_type": "code",
   "execution_count": 29,
   "id": "edb873da-0c46-402d-b1af-39d281d81e77",
   "metadata": {},
   "outputs": [
    {
     "data": {
      "text/plain": [
       "array([[1., 0., 0., 0., 0.],\n",
       "       [0., 1., 0., 0., 0.],\n",
       "       [0., 0., 1., 0., 0.],\n",
       "       [0., 0., 0., 1., 0.],\n",
       "       [0., 0., 0., 0., 1.]])"
      ]
     },
     "execution_count": 29,
     "metadata": {},
     "output_type": "execute_result"
    }
   ],
   "source": [
    "np.eye(5,5)"
   ]
  },
  {
   "cell_type": "code",
   "execution_count": null,
   "id": "32ee5f35-9c9c-4f9c-a84c-131155ce1d89",
   "metadata": {},
   "outputs": [],
   "source": []
  },
  {
   "cell_type": "code",
   "execution_count": null,
   "id": "1a76a7eb-5e0d-4e86-819d-66174414f500",
   "metadata": {},
   "outputs": [],
   "source": []
  }
 ],
 "metadata": {
  "kernelspec": {
   "display_name": "Python 3 (ipykernel)",
   "language": "python",
   "name": "python3"
  },
  "language_info": {
   "codemirror_mode": {
    "name": "ipython",
    "version": 3
   },
   "file_extension": ".py",
   "mimetype": "text/x-python",
   "name": "python",
   "nbconvert_exporter": "python",
   "pygments_lexer": "ipython3",
   "version": "3.10.8"
  }
 },
 "nbformat": 4,
 "nbformat_minor": 5
}
