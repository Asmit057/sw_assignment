{
 "cells": [
  {
   "cell_type": "code",
   "execution_count": 1,
   "id": "7becb416-acfe-4a00-a408-7c6de4a5782c",
   "metadata": {},
   "outputs": [],
   "source": [
    "# 29 jan assignment"
   ]
  },
  {
   "cell_type": "code",
   "execution_count": 2,
   "id": "8c2c6fdc-dbaa-4ac1-9b2c-bc6ea395cdee",
   "metadata": {},
   "outputs": [],
   "source": [
    "# 1. Who developed python programming language?"
   ]
  },
  {
   "cell_type": "code",
   "execution_count": 3,
   "id": "6f2f7e95-bb5f-42ce-8c9b-2f5931ea2e43",
   "metadata": {},
   "outputs": [],
   "source": [
    " # Guido van Rossum"
   ]
  },
  {
   "cell_type": "code",
   "execution_count": 4,
   "id": "2e3f92c4-f78f-46ea-9d62-4fb86ca8394e",
   "metadata": {},
   "outputs": [],
   "source": [
    "# 2.Which type of programming python support."
   ]
  },
  {
   "cell_type": "code",
   "execution_count": 5,
   "id": "c64009e8-a006-416e-a091-22ef535947c4",
   "metadata": {},
   "outputs": [],
   "source": [
    "# Python support three programming paradigms: Imperative, Functional, and Object-Oriented ."
   ]
  },
  {
   "cell_type": "code",
   "execution_count": 6,
   "id": "b319ee00-681f-4ac5-9ec4-5a505248a3af",
   "metadata": {},
   "outputs": [],
   "source": [
    "# 3. Is python case sensitive when dealing with identifiers."
   ]
  },
  {
   "cell_type": "code",
   "execution_count": 7,
   "id": "669ea523-8cd1-4d61-b86a-436f97baff49",
   "metadata": {},
   "outputs": [],
   "source": [
    "# Yes, Python is a case-sensitive language, i.e.,\n",
    "# it treats uppercase and lowercase characters differently. This applies to identifiers too. "
   ]
  },
  {
   "cell_type": "code",
   "execution_count": 8,
   "id": "48e66c78-e69d-45e9-8086-e1e615716ce2",
   "metadata": {},
   "outputs": [],
   "source": [
    "# 4. What is the correct extension of the python file."
   ]
  },
  {
   "cell_type": "code",
   "execution_count": 9,
   "id": "61271231-84d1-421b-ad06-e1a01ccb5779",
   "metadata": {},
   "outputs": [],
   "source": [
    "# correct extension is .py"
   ]
  },
  {
   "cell_type": "code",
   "execution_count": 10,
   "id": "9aa0db7f-2c98-4456-906d-df2b3e586681",
   "metadata": {},
   "outputs": [],
   "source": [
    "# 5. Is python code compiled or interpreted."
   ]
  },
  {
   "cell_type": "code",
   "execution_count": 11,
   "id": "f0dfac64-45cf-4501-a27d-d3ad88a921fe",
   "metadata": {},
   "outputs": [],
   "source": [
    "# Interpreted."
   ]
  },
  {
   "cell_type": "code",
   "execution_count": 12,
   "id": "097e80fa-7647-4338-a7e0-c2e6b9715d03",
   "metadata": {},
   "outputs": [],
   "source": [
    "# 6. Name a few blocks of code used to define in python language."
   ]
  },
  {
   "cell_type": "code",
   "execution_count": 13,
   "id": "306e1a8f-74de-4b56-99c6-ebd577f6c3d5",
   "metadata": {},
   "outputs": [],
   "source": [
    "# A Python program is constructed from code blocks. A block is a piece of Python program text that is executed as a unit.\n",
    "# The following are blocks: a module, a function body, and a class definition"
   ]
  },
  {
   "cell_type": "code",
   "execution_count": 14,
   "id": "f01bb2b6-a9bb-4be4-a0e6-891f714ea3b9",
   "metadata": {},
   "outputs": [],
   "source": [
    "# 7. State a character used to give single line comment in python.\n",
    "# Hash character"
   ]
  },
  {
   "cell_type": "code",
   "execution_count": 15,
   "id": "450e8451-660c-4e82-87b2-7587b66cd91a",
   "metadata": {},
   "outputs": [],
   "source": [
    "# 8.Mention the functions which can help us to find version of the python currently\n",
    "# working with.\n"
   ]
  },
  {
   "cell_type": "code",
   "execution_count": 16,
   "id": "fd9739a7-c81e-455f-a140-70ea6bdff2a4",
   "metadata": {},
   "outputs": [],
   "source": [
    "# sys.version "
   ]
  },
  {
   "cell_type": "code",
   "execution_count": 17,
   "id": "5b0c9c6d-cf19-465e-8452-6088737e0934",
   "metadata": {},
   "outputs": [],
   "source": [
    "# 9. Python support the creation of anonymous function at runtime using a construct called"
   ]
  },
  {
   "cell_type": "code",
   "execution_count": 18,
   "id": "35936d1f-d0d2-40a4-8c7f-657d7930fe18",
   "metadata": {},
   "outputs": [],
   "source": [
    "# lambda function"
   ]
  },
  {
   "cell_type": "code",
   "execution_count": 19,
   "id": "025ce26c-9211-4d3c-8d0b-4262690d211b",
   "metadata": {},
   "outputs": [],
   "source": [
    "# 10. What does pip stand for python."
   ]
  },
  {
   "cell_type": "code",
   "execution_count": 20,
   "id": "c4a66ff0-7527-4f94-a76f-bc0cb7aa60d0",
   "metadata": {},
   "outputs": [],
   "source": [
    "# preferred installer program"
   ]
  },
  {
   "cell_type": "code",
   "execution_count": 21,
   "id": "ddd9ee9e-10b7-453c-a965-da1c13e66acc",
   "metadata": {},
   "outputs": [],
   "source": [
    "# 11. Mention a few built in function in python."
   ]
  },
  {
   "cell_type": "code",
   "execution_count": 22,
   "id": "a82d54ec-2298-4e2b-93d3-9f5ce8f83318",
   "metadata": {},
   "outputs": [],
   "source": [
    "#print( ) function.\n",
    "#type( ) function.\n",
    "# input( ) function.\n",
    "# abs( ) function.\n",
    "# pow( ) function.\n",
    "# dir( ) function.\n",
    "# sorted( ) function."
   ]
  },
  {
   "cell_type": "code",
   "execution_count": 23,
   "id": "0a8510ba-074b-4bc2-98bf-9dd4c3d0ac66",
   "metadata": {},
   "outputs": [],
   "source": [
    "# 12.What is maximum possible length of identifier in python."
   ]
  },
  {
   "cell_type": "code",
   "execution_count": 24,
   "id": "2abfedcb-19b2-44a3-8b4f-01daef3540f5",
   "metadata": {},
   "outputs": [],
   "source": [
    "# \"Python identifiers are unlimited in length\" but as per PEP-8 you should limit identifier to \n",
    "# a maximum of 79 character for better readability but there is no restriction."
   ]
  },
  {
   "cell_type": "code",
   "execution_count": 25,
   "id": "0357a972-ada6-4af4-b988-6ede443f70e4",
   "metadata": {},
   "outputs": [],
   "source": [
    "# 13.What are the benefits of using python."
   ]
  },
  {
   "cell_type": "code",
   "execution_count": 26,
   "id": "62d2b0a2-bc74-47bc-8060-41297c27b63b",
   "metadata": {},
   "outputs": [],
   "source": [
    "# Python programming is a general-purpose skill used in almost all fields, including: \n",
    "\n",
    "#Data science\n",
    "#Scientific and mathematical computing\n",
    "#Web development\n",
    "#Finance and trading\n",
    "#System automation and administration\n",
    "#Computer graphics\n",
    "#Basic game development\n",
    "#Security and penetration testing"
   ]
  },
  {
   "cell_type": "code",
   "execution_count": 27,
   "id": "32acb027-38cb-4f38-8d25-657124e2cace",
   "metadata": {},
   "outputs": [],
   "source": [
    "# 14.How is memory managed in python."
   ]
  },
  {
   "cell_type": "code",
   "execution_count": 28,
   "id": "8c95aa63-4b89-4c35-af49-9798c972e013",
   "metadata": {},
   "outputs": [],
   "source": [
    "# Memory management in Python involves a private heap containing all Python objects and data structures. \n",
    "#The management of this private heap is ensured internally by the Python memory manager."
   ]
  },
  {
   "cell_type": "code",
   "execution_count": 29,
   "id": "91a246ed-0ebb-47bd-a1a3-785a2dc8d798",
   "metadata": {},
   "outputs": [],
   "source": [
    "# 15.How to install python on windows and set path variables.\n",
    "\n",
    "#Open a browser to the Python website and download the Windows installer. 2. \n",
    "#Double click on the downloaded file and install Python for all users,\n",
    "#and ensure that Python is added to your path.\n",
    "# Right-clicking This PC and going to Properties.\n",
    "\n",
    "# setting path.\n",
    "\n",
    "#Clicking on the Advanced system settings in the menu on the left.\n",
    "\n",
    "#Clicking on the Environment Variables button on the bottom right.\n",
    "\n",
    "#In the System variables section, selecting the Path variable and clicking on Edit.\n",
    "#The next screen will show all the directories that are currently a part of the PATH variable.\n",
    "\n",
    "#Clicking on New and entering Python’s install directory."
   ]
  },
  {
   "cell_type": "code",
   "execution_count": 30,
   "id": "502ca378-89f8-4c29-a34d-058714f06ab1",
   "metadata": {},
   "outputs": [],
   "source": [
    "# 16. Is indentation required in python."
   ]
  },
  {
   "cell_type": "code",
   "execution_count": 31,
   "id": "ba43a378-e72d-4619-a051-4c303b08e8a7",
   "metadata": {},
   "outputs": [],
   "source": [
    "#Indentation refers to the spaces at the beginning of a code line.\n",
    "# the indentation in Python is very important. Python uses indentation to indicate a block of code.\n"
   ]
  },
  {
   "cell_type": "code",
   "execution_count": null,
   "id": "d7697125-cbd4-443e-95a6-10ca98a7d526",
   "metadata": {},
   "outputs": [],
   "source": []
  }
 ],
 "metadata": {
  "kernelspec": {
   "display_name": "Python 3 (ipykernel)",
   "language": "python",
   "name": "python3"
  },
  "language_info": {
   "codemirror_mode": {
    "name": "ipython",
    "version": 3
   },
   "file_extension": ".py",
   "mimetype": "text/x-python",
   "name": "python",
   "nbconvert_exporter": "python",
   "pygments_lexer": "ipython3",
   "version": "3.10.8"
  }
 },
 "nbformat": 4,
 "nbformat_minor": 5
}
