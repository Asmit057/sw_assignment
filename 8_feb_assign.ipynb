{
 "cells": [
  {
   "cell_type": "code",
   "execution_count": 1,
   "id": "2334bdd9-663d-4d20-bcdf-aa1e51a817aa",
   "metadata": {},
   "outputs": [],
   "source": [
    "# 8feb assignment"
   ]
  },
  {
   "cell_type": "code",
   "execution_count": 4,
   "id": "6cc70ba1-faf8-449e-8640-79f809178438",
   "metadata": {},
   "outputs": [
    {
     "name": "stdout",
     "output_type": "stream",
     "text": [
      "I have 3 sides\n"
     ]
    }
   ],
   "source": [
    "# Q1. What is Abstraction in OOps? Explain with an example.\n",
    "# Abstraction is the concept of object-oriented programming that “shows” only essential attributes and “hides” unnecessary information.\n",
    "# The main purpose of abstraction is hiding the unnecessary details from the users.\n",
    "# ex.\n",
    "from abc import ABC, abstractmethod\n",
    " \n",
    "class Polygon(ABC):\n",
    " \n",
    "    @abstractmethod\n",
    "    def no_of_sides(self):\n",
    "        pass\n",
    " \n",
    "class Triangle(Polygon):\n",
    " \n",
    "    # overriding abstract method\n",
    "    def no_of_sides(self):\n",
    "        print(\"I have 3 sides\")\n",
    " \n",
    "R = Triangle()\n",
    "R.no_of_sides()"
   ]
  },
  {
   "cell_type": "code",
   "execution_count": 5,
   "id": "fb529bb3-7060-4a59-800c-885bfb37cb13",
   "metadata": {},
   "outputs": [
    {
     "name": "stdout",
     "output_type": "stream",
     "text": [
      "I have 3 sides\n"
     ]
    }
   ],
   "source": [
    "# Q2.  Differentiate between Abstraction and Encapsulation. Explain with an example.\n",
    "# Abstraction.\n",
    "# Abstraction is the process or method of gaining the information.\n",
    "# In abstraction, problems are solved at the design or interface level.\n",
    "# Abstraction is the method of hiding the unwanted information.\n",
    "# ex.\n",
    "from abc import ABC, abstractmethod\n",
    " \n",
    "class Polygon(ABC):\n",
    " \n",
    "    @abstractmethod\n",
    "    def no_of_sides(self):\n",
    "        pass\n",
    " \n",
    "class Triangle(Polygon):\n",
    " \n",
    "    # overriding abstract method\n",
    "    def no_of_sides(self):\n",
    "        print(\"I have 3 sides\")\n",
    " \n",
    "R = Triangle()\n",
    "R.no_of_sides()"
   ]
  },
  {
   "cell_type": "code",
   "execution_count": 6,
   "id": "cc95a7e7-2255-4250-b9f8-a31ee098faa3",
   "metadata": {},
   "outputs": [
    {
     "data": {
      "text/plain": [
       "360"
      ]
     },
     "execution_count": 6,
     "metadata": {},
     "output_type": "execute_result"
    }
   ],
   "source": [
    "# encapsualtion\n",
    "# While encapsulation is the process or method to contain the information.\n",
    "#  In encapsulation, problems are solved at the implementation level.\n",
    "#  Encapsulation is a method to hide the data in a single entity or unit along with a method \n",
    "#  to protect information from outside.\n",
    "# ex.\n",
    "class car:\n",
    "    def __init__(self,year,make ,model,speed):\n",
    "        self.__year = year\n",
    "        self.__make = make\n",
    "        self.__model  = model\n",
    "        self.__speed = 0\n",
    "    def set_speed(self,speed):\n",
    "        self.__speed = 0 if speed <0 else speed\n",
    "        \n",
    "    def get_speed(self):\n",
    "        return self.__speed\n",
    "    \n",
    "c = car(2021,\"toyota\",\"innova\",12)\n",
    "c.set_speed(360)\n",
    "c.get_speed()"
   ]
  },
  {
   "cell_type": "code",
   "execution_count": 7,
   "id": "98ca1aa7-bd04-42db-a032-8ef8148d1cc1",
   "metadata": {},
   "outputs": [],
   "source": [
    "# Q 3. What is abc module in python? Why is it used?"
   ]
  },
  {
   "cell_type": "code",
   "execution_count": 8,
   "id": "dab1f0f0-2142-440e-add3-4b4fea07f9b7",
   "metadata": {},
   "outputs": [],
   "source": [
    "# To support abstract class in python we make abstract base class(abc) in python.\n",
    "# The main goal of the abstract base class is to provide a standardized way to test whether an object\n",
    "# adheres to a given specification.\n",
    "# It is used to make any class abstract.\n",
    "# It is used to prevent any attempt to instantiate a subclass that doesn’t override\n",
    "# a particular method in the superclass."
   ]
  },
  {
   "cell_type": "code",
   "execution_count": 10,
   "id": "546e7ba3-e267-4c76-89ee-c369f73be6b1",
   "metadata": {},
   "outputs": [],
   "source": [
    "# Q 4. How can we achieve data abstraction?"
   ]
  },
  {
   "cell_type": "code",
   "execution_count": 11,
   "id": "4339e4b6-dc10-4166-a438-49387b009482",
   "metadata": {},
   "outputs": [],
   "source": [
    "# Data Abstraction in Python can be achieved through creating abstract classes and inheriting them later. \n",
    "# abstract class cannot be instantiated. "
   ]
  },
  {
   "cell_type": "code",
   "execution_count": 12,
   "id": "4453d233-a8ce-42e9-b7c5-ab5f326c1929",
   "metadata": {},
   "outputs": [],
   "source": [
    "# Q5. Can we create an instance of an abstract class? Explain your answer.\n",
    "# No we can not create instance of abstract class because it is abstract , it is not complete.\n",
    "# We just declare the methods in abstract class and overrides in subclass to implement these methods."
   ]
  },
  {
   "cell_type": "code",
   "execution_count": null,
   "id": "0700d0bb-95b7-497a-8a94-951f8bd4bdfd",
   "metadata": {},
   "outputs": [],
   "source": []
  }
 ],
 "metadata": {
  "kernelspec": {
   "display_name": "Python 3 (ipykernel)",
   "language": "python",
   "name": "python3"
  },
  "language_info": {
   "codemirror_mode": {
    "name": "ipython",
    "version": 3
   },
   "file_extension": ".py",
   "mimetype": "text/x-python",
   "name": "python",
   "nbconvert_exporter": "python",
   "pygments_lexer": "ipython3",
   "version": "3.10.8"
  }
 },
 "nbformat": 4,
 "nbformat_minor": 5
}
