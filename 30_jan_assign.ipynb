{
 "cells": [
  {
   "cell_type": "code",
   "execution_count": 1,
   "id": "4a35521a-8bef-4e47-b0bb-10bfc1c1aa05",
   "metadata": {},
   "outputs": [],
   "source": [
    "# Assignment 2\n",
    "# 30 jan 2023"
   ]
  },
  {
   "cell_type": "code",
   "execution_count": 2,
   "id": "e487df29-5763-4f8d-8edb-cc7779898de9",
   "metadata": {},
   "outputs": [],
   "source": [
    "# 1.Program to accept percentage and display grade"
   ]
  },
  {
   "cell_type": "code",
   "execution_count": 3,
   "id": "6962a3ec-23e8-4ad8-8ca0-6d1dc58489ba",
   "metadata": {},
   "outputs": [
    {
     "name": "stdin",
     "output_type": "stream",
     "text": [
      "enter the percentage  88\n"
     ]
    },
    {
     "name": "stdout",
     "output_type": "stream",
     "text": [
      "B\n"
     ]
    }
   ],
   "source": [
    "x = float(input(\"enter the percentage \"))\n",
    "if x>90:\n",
    "    print(\"A\")\n",
    "elif x>80 and x<=90:\n",
    "    print(\"B\")\n",
    "elif x>=60 and x<=80:\n",
    "    print(\"C\")\n",
    "else:\n",
    "    print(\"D\")"
   ]
  },
  {
   "cell_type": "code",
   "execution_count": 4,
   "id": "dea23ed5-30b3-4458-bf62-6052262bf0a8",
   "metadata": {},
   "outputs": [],
   "source": [
    "# 2. program to accept cost price of bike and display the tax"
   ]
  },
  {
   "cell_type": "code",
   "execution_count": 5,
   "id": "f5467d8c-6e2d-41dd-9313-0754c1d9448a",
   "metadata": {},
   "outputs": [
    {
     "name": "stdin",
     "output_type": "stream",
     "text": [
      "enter the cost price of bike 120000\n"
     ]
    },
    {
     "name": "stdout",
     "output_type": "stream",
     "text": [
      "road tax = 15%\n"
     ]
    }
   ],
   "source": [
    "x = int(input(\"enter the cost price of bike\"))\n",
    "print(\"road tax = \",end=\"\")\n",
    "if x>100000:\n",
    "    print(\"15%\")\n",
    "elif x>50000 and x<=100000:\n",
    "    print(\"10%\")\n",
    "elif x<=50000:\n",
    "    print(\"5%\")"
   ]
  },
  {
   "cell_type": "code",
   "execution_count": 6,
   "id": "a60adbf3-039f-487e-9fc4-9e06cc217bc1",
   "metadata": {},
   "outputs": [
    {
     "name": "stdin",
     "output_type": "stream",
     "text": [
      "enter the city-  Agra\n"
     ]
    },
    {
     "name": "stdout",
     "output_type": "stream",
     "text": [
      "Taj Mahal\n"
     ]
    }
   ],
   "source": [
    "# 3. Accept any city and display monument of that city\n",
    "x = str(input(\"enter the city- \"))\n",
    "if x == \"Delhi\":\n",
    "    print(\"Red Fort\")\n",
    "elif x == \"Agra\":\n",
    "    print(\"Taj Mahal\")\n",
    "elif x == \"Jaipur\":\n",
    "    print(\"Jal Mahal\")\n",
    "else:\n",
    "    print(\"Data not found\")"
   ]
  },
  {
   "cell_type": "code",
   "execution_count": 7,
   "id": "31bcb9cd-88c7-4a44-86d3-17f94c7d6b77",
   "metadata": {},
   "outputs": [],
   "source": [
    "# 4. Check how many time a given number divisible by 3 before it is less than or \n",
    "# equal to 10."
   ]
  },
  {
   "cell_type": "code",
   "execution_count": 8,
   "id": "56403bbe-a183-463d-9007-855a4075a4da",
   "metadata": {},
   "outputs": [
    {
     "name": "stdin",
     "output_type": "stream",
     "text": [
      "enter the no. 12\n"
     ]
    },
    {
     "name": "stdout",
     "output_type": "stream",
     "text": [
      " No. is greater than 10\n"
     ]
    }
   ],
   "source": [
    "x = int(input(\"enter the no.\"))\n",
    "count =0\n",
    "if x>10:\n",
    "    print(\" No. is greater than 10\")\n",
    "else:\n",
    "    while x>1:\n",
    "        if x%3==0:\n",
    "            count +=1\n",
    "        x = x/3.0      \n",
    "    print(count,\"times divisible by 3\")"
   ]
  },
  {
   "cell_type": "code",
   "execution_count": 9,
   "id": "76b2e42e-6da2-4042-b8c8-ec5c3ad3c171",
   "metadata": {},
   "outputs": [],
   "source": [
    "# 5. Why and when to use while loop with example."
   ]
  },
  {
   "cell_type": "code",
   "execution_count": 10,
   "id": "d696e4c1-42ab-4106-95c4-f2199f9cbd0a",
   "metadata": {},
   "outputs": [
    {
     "name": "stdin",
     "output_type": "stream",
     "text": [
      "Enter a number:  23\n",
      "Enter a number:  0\n"
     ]
    },
    {
     "name": "stdout",
     "output_type": "stream",
     "text": [
      "total = 23\n"
     ]
    }
   ],
   "source": [
    "#Python while loop is used to run a block code until a certain condition is met.\n",
    "# It evaluates the condition , if the condition is true then it will run,\n",
    "# otherwise it will come out of loop.\n",
    "#While loop is used when the number of iterations is not known.\n",
    "# Ex.\n",
    "total = 0\n",
    "\n",
    "number = int(input('Enter a number: '))\n",
    "\n",
    "# add numbers until number is zero\n",
    "while number != 0:\n",
    "    total += number    \n",
    "    \n",
    "    # take integer input again\n",
    "    number = int(input('Enter a number: '))\n",
    "    \n",
    "\n",
    "print('total =', total)"
   ]
  },
  {
   "cell_type": "code",
   "execution_count": 11,
   "id": "26f8bc03-1da3-4d66-88b5-3b6f696f18d6",
   "metadata": {},
   "outputs": [
    {
     "name": "stdout",
     "output_type": "stream",
     "text": [
      " #  #  #  # \n",
      " #  #  #  # \n",
      " #  #  #  # \n",
      " #  #  #  # \n"
     ]
    }
   ],
   "source": [
    "# 6. Use nested while loop to print 3 different pattern\n",
    "# pattern 1.\n",
    "i =1\n",
    "while i<=4:\n",
    "    j=1\n",
    "    while j<=4:\n",
    "        print(\" # \",end=\"\")\n",
    "        j +=1\n",
    "    i +=1\n",
    "    print()"
   ]
  },
  {
   "cell_type": "code",
   "execution_count": 12,
   "id": "1b42d990-e15a-42a1-acc4-ff7ff5d67b90",
   "metadata": {},
   "outputs": [
    {
     "name": "stdout",
     "output_type": "stream",
     "text": [
      " #  #  # \n",
      " #  # \n",
      " # \n",
      "\n"
     ]
    }
   ],
   "source": [
    "# pattern 2\n",
    "i = 1\n",
    "while i<=4:\n",
    "    j=1\n",
    "    while j<= 4-i:\n",
    "        print(\" # \" , end=\"\")\n",
    "        j +=1\n",
    "    i +=1\n",
    "    print()"
   ]
  },
  {
   "cell_type": "code",
   "execution_count": 15,
   "id": "b2713233-1d2a-4144-af17-06bc735116ca",
   "metadata": {},
   "outputs": [
    {
     "name": "stdout",
     "output_type": "stream",
     "text": [
      "* \n",
      "* * \n",
      "* * * \n",
      "* * * * \n",
      "* * * * * \n"
     ]
    }
   ],
   "source": [
    "# pattern 3\n",
    "n =5\n",
    "i=1\n",
    "while i<=n:\n",
    "    j=1\n",
    "    while j<=i:\n",
    "        print(\"*\",end=\" \")\n",
    "        j +=1\n",
    "    print()\n",
    "    i +=1"
   ]
  },
  {
   "cell_type": "code",
   "execution_count": 16,
   "id": "664c5695-3930-4563-b80b-8f44dc67d2d9",
   "metadata": {},
   "outputs": [],
   "source": [
    "# 7.0 reverse while loop to display no from 10 to 1"
   ]
  },
  {
   "cell_type": "code",
   "execution_count": 17,
   "id": "45379415-499d-463b-92f0-9c8d06d2f638",
   "metadata": {},
   "outputs": [
    {
     "name": "stdout",
     "output_type": "stream",
     "text": [
      "10\n",
      "9\n",
      "8\n",
      "7\n",
      "6\n",
      "5\n",
      "4\n",
      "3\n",
      "2\n",
      "1\n"
     ]
    }
   ],
   "source": [
    "x=10\n",
    "while(x>=1):\n",
    "    print(x)\n",
    "    x -=1"
   ]
  },
  {
   "cell_type": "code",
   "execution_count": null,
   "id": "f8a72b42-6584-4ff9-83d2-16ed7cf72dd8",
   "metadata": {},
   "outputs": [],
   "source": []
  }
 ],
 "metadata": {
  "kernelspec": {
   "display_name": "Python 3 (ipykernel)",
   "language": "python",
   "name": "python3"
  },
  "language_info": {
   "codemirror_mode": {
    "name": "ipython",
    "version": 3
   },
   "file_extension": ".py",
   "mimetype": "text/x-python",
   "name": "python",
   "nbconvert_exporter": "python",
   "pygments_lexer": "ipython3",
   "version": "3.10.8"
  }
 },
 "nbformat": 4,
 "nbformat_minor": 5
}
