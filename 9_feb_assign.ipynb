{
 "cells": [
  {
   "cell_type": "code",
   "execution_count": 1,
   "id": "db7d73b4-f66b-4f95-a8be-05436868e2c3",
   "metadata": {},
   "outputs": [],
   "source": [
    "# 9 feb assignment"
   ]
  },
  {
   "cell_type": "code",
   "execution_count": 2,
   "id": "2358775c-d34a-41ca-97d0-e646b6ae0fb2",
   "metadata": {},
   "outputs": [],
   "source": [
    "# Q1. Create a vehicle class with an init method having instance variables as name_of_vehicle, max_speed \n",
    "# and average_of_vehicle"
   ]
  },
  {
   "cell_type": "code",
   "execution_count": 3,
   "id": "ef692da4-64f0-4844-af8b-89fdd920abd1",
   "metadata": {},
   "outputs": [],
   "source": [
    "class vehicle:\n",
    "   # name = \"\"\n",
    "    def __init__(self,name_of_vehicle ,max_speed,average_of_vehicle):\n",
    "        self.name_of_vehicle = name_of_vehicle\n",
    "        self.max_speed = max_speed\n",
    "        self.average_of_vehicle = average_of_vehicle\n",
    "    def show_details(self):\n",
    "        print(\"name of vehicle \", self.name_of_vehicle)\n",
    "        print(\"max speed \" , self.max_speed)\n",
    "        print(\"average of vehicle \",self.average_of_vehicle)"
   ]
  },
  {
   "cell_type": "code",
   "execution_count": 4,
   "id": "696cee46-8950-4b54-9e16-f4a29e290638",
   "metadata": {},
   "outputs": [
    {
     "name": "stdout",
     "output_type": "stream",
     "text": [
      "name of vehicle  BMW\n",
      "max speed  300\n",
      "average of vehicle  15\n"
     ]
    }
   ],
   "source": [
    "car1 = vehicle('BMW',300,15)\n",
    "car1.show_details()"
   ]
  },
  {
   "cell_type": "code",
   "execution_count": 5,
   "id": "74e0c963-e33c-43c2-8e4d-e8aa2e9c364f",
   "metadata": {},
   "outputs": [],
   "source": [
    "# Q2.  Create a child class car from the vehicle class created in Que 1, which will inherit the vehicle class. \n",
    "# Create a method named seating_capacity which takes capacity as an argument and returns the name of \n",
    "# the vehicle and its seating capacity."
   ]
  },
  {
   "cell_type": "code",
   "execution_count": 6,
   "id": "3d7667b5-1095-4324-99c4-6a9531930496",
   "metadata": {},
   "outputs": [],
   "source": [
    "class car(vehicle):\n",
    "    def seating_capacity(self,capacity):\n",
    "        self.capacity = capacity\n",
    "        vehicle_name = self.name_of_vehicle\n",
    "        return self.capacity,vehicle_name\n",
    "        \n",
    "        "
   ]
  },
  {
   "cell_type": "code",
   "execution_count": 7,
   "id": "27e208a8-459c-4d48-a482-7b3586dae34d",
   "metadata": {},
   "outputs": [
    {
     "name": "stdout",
     "output_type": "stream",
     "text": [
      "capacity is  4\n",
      "vehicle_name  BMW\n"
     ]
    }
   ],
   "source": [
    "car2 = car('BMW',300,15)\n",
    "a , b = car2.seating_capacity(4)\n",
    "print(\"capacity is \",a)\n",
    "print(\"vehicle_name \",b)\n"
   ]
  },
  {
   "cell_type": "code",
   "execution_count": 8,
   "id": "a33307e3-d156-43b3-aa74-e0e0b166aa94",
   "metadata": {},
   "outputs": [],
   "source": [
    "# Q3. What is multiple inheritance? Write a python code to demonstrate multiple inheritance.\n"
   ]
  },
  {
   "cell_type": "code",
   "execution_count": 9,
   "id": "183ab7ca-6907-426c-ab45-f187cb05bcae",
   "metadata": {},
   "outputs": [
    {
     "name": "stdout",
     "output_type": "stream",
     "text": [
      "Father : Ayush\n",
      "Mother : Anjali\n"
     ]
    }
   ],
   "source": [
    "#Multiple inheritance is a feature of  object-oriented  programming in which an object or class can inherit\n",
    "# features from more than one parent object or parent class.\n",
    "# multiple inheritance ex.\n",
    "class Mother:\n",
    "\tmothername = \"\"\n",
    "\tdef mother(self):\n",
    "\t\tprint(self.mothername)\n",
    "        \n",
    "class Father:\n",
    "\tfathername = \"\"\n",
    "\n",
    "\tdef father(self):\n",
    "\t\tprint(self.fathername)\n",
    "\n",
    "class Son(Mother, Father):\n",
    "\tdef parents(self):\n",
    "\t\tprint(\"Father :\", self.fathername)\n",
    "\t\tprint(\"Mother :\", self.mothername)\n",
    "\n",
    "s1 = Son()\n",
    "s1.fathername = \"Ayush\"\n",
    "s1.mothername = \"Anjali\"\n",
    "s1.parents()\n"
   ]
  },
  {
   "cell_type": "code",
   "execution_count": 10,
   "id": "6e7a19e6-3b98-4ece-a238-f3add32adbc6",
   "metadata": {},
   "outputs": [],
   "source": [
    "# Q4. What are getter and setter in python? Create a class and create a getter and a setter method in this\n",
    "# class.\n",
    "# Getters are the methods that are used in Object-Oriented Programming  \n",
    "# to access a class's private attributes.\n",
    "# The setter is a method that is used to set the property's value. \n",
    "# It is very useful in object-oriented programming to set the value of private attributes in a class.\n"
   ]
  },
  {
   "cell_type": "code",
   "execution_count": 11,
   "id": "d7b5f3ad-4d07-42e0-8f0a-262dd834cb3e",
   "metadata": {},
   "outputs": [],
   "source": [
    "# ex.\n",
    "class pwskills2:\n",
    "    def __init__(self,course_price,course_name):\n",
    "        self.__course_price = course_price\n",
    "        self.course_name = course_name\n",
    "    \n",
    "    @property\n",
    "    def course_price_access(self):\n",
    "        return self.__course_price\n",
    "    @course_price_access.setter\n",
    "    def course_price_set(self,price):\n",
    "        if price <=3500:\n",
    "            pass\n",
    "        else:\n",
    "            self.__course_price =price\n",
    "            \n",
    "    @course_price_access.deleter\n",
    "    def delete_course_price(self):\n",
    "        del self.__course_price"
   ]
  },
  {
   "cell_type": "code",
   "execution_count": 12,
   "id": "424a9525-9b03-45b8-a124-b086b3992333",
   "metadata": {},
   "outputs": [],
   "source": [
    "pw = pwskills2(3500,\"data science masters\")"
   ]
  },
  {
   "cell_type": "code",
   "execution_count": 15,
   "id": "b968e173-87ed-4c78-a033-2b433dd0f541",
   "metadata": {},
   "outputs": [
    {
     "name": "stdout",
     "output_type": "stream",
     "text": [
      "course price is  3500\n"
     ]
    }
   ],
   "source": [
    "a = pw.course_price_access\n",
    "print(\"course price is \",a)"
   ]
  },
  {
   "cell_type": "code",
   "execution_count": 17,
   "id": "b35248c3-1a47-452f-9bde-1452bc82f10c",
   "metadata": {},
   "outputs": [],
   "source": [
    "pw.course_price_set = 4500"
   ]
  },
  {
   "cell_type": "code",
   "execution_count": 18,
   "id": "b4658385-6481-41b4-b0ce-87bf823f3938",
   "metadata": {},
   "outputs": [
    {
     "name": "stdout",
     "output_type": "stream",
     "text": [
      "new price  4500\n"
     ]
    }
   ],
   "source": [
    "print(\"new price \", pw.course_price_access)"
   ]
  },
  {
   "cell_type": "code",
   "execution_count": 19,
   "id": "ac94b2a7-edfe-4eaa-af43-be973897edd8",
   "metadata": {},
   "outputs": [],
   "source": [
    "# Q5.What is method overriding in python? Write a python code to demonstrate method overriding."
   ]
  },
  {
   "cell_type": "code",
   "execution_count": 20,
   "id": "76dcab6e-3afe-4cb6-be64-972011a82e9f",
   "metadata": {},
   "outputs": [
    {
     "name": "stdout",
     "output_type": "stream",
     "text": [
      "Inside Parent\n",
      "Inside Child\n"
     ]
    }
   ],
   "source": [
    "# Method overriding is an ability of any object-oriented programming language that allows a subclass \n",
    "#or child class to provide a specific implementation of a method that is already provided by one of its\n",
    "# super-classes or parent classes.\n",
    "# ex.\n",
    "class Parent():\n",
    "    def __init__(self):\n",
    "        self.value = \"Inside Parent\"\n",
    "          \n",
    "    # Parent's show method\n",
    "    def show(self):\n",
    "        print(self.value)\n",
    "        \n",
    "class Child(Parent):\n",
    "      \n",
    "    def __init__(self):\n",
    "        self.value = \"Inside Child\"\n",
    "          \n",
    "    # Child's show method , oveerides parent's method\n",
    "    def show(self):\n",
    "        print(self.value)\n",
    "          \n",
    "obj1 = Parent()\n",
    "obj2 = Child()\n",
    "  \n",
    "obj1.show()\n",
    "obj2.show()"
   ]
  },
  {
   "cell_type": "code",
   "execution_count": null,
   "id": "22cd6f50-0d0c-4455-a1c0-f02e5451800e",
   "metadata": {},
   "outputs": [],
   "source": []
  }
 ],
 "metadata": {
  "kernelspec": {
   "display_name": "Python 3 (ipykernel)",
   "language": "python",
   "name": "python3"
  },
  "language_info": {
   "codemirror_mode": {
    "name": "ipython",
    "version": 3
   },
   "file_extension": ".py",
   "mimetype": "text/x-python",
   "name": "python",
   "nbconvert_exporter": "python",
   "pygments_lexer": "ipython3",
   "version": "3.10.8"
  }
 },
 "nbformat": 4,
 "nbformat_minor": 5
}
