{
 "cells": [
  {
   "cell_type": "code",
   "execution_count": 1,
   "id": "90968a6b-232f-448b-a470-aac068c430e9",
   "metadata": {},
   "outputs": [],
   "source": [
    "# 12 feb assignment"
   ]
  },
  {
   "cell_type": "code",
   "execution_count": 2,
   "id": "312c43ae-ac95-4c3a-af9c-c1d1d311dd54",
   "metadata": {},
   "outputs": [],
   "source": [
    "# Q1. What is an exception in python. Write the diiference between exception and syntax error."
   ]
  },
  {
   "cell_type": "code",
   "execution_count": 3,
   "id": "933fae54-c60e-4622-90b8-5ccf982c01d5",
   "metadata": {},
   "outputs": [],
   "source": [
    "# An  exception is an event, which occurs during the execution of a program that disrupts\n",
    "#the normal flow of the program's instructions.\n",
    "#Errors cannot be handled, while Python exceptions can be handled at the run time. \n",
    "#An error can be a syntax (parsing) error, while there can be many types of exceptions that \n",
    "#could occur during the execution and are not unconditionally inoperable."
   ]
  },
  {
   "cell_type": "code",
   "execution_count": 4,
   "id": "9e30f3cc-7c04-4d65-a1fb-a231729e78da",
   "metadata": {},
   "outputs": [],
   "source": [
    "# Q2. What happen when exception not handled . Explain with an example."
   ]
  },
  {
   "cell_type": "code",
   "execution_count": 6,
   "id": "d43c48ef-c9df-4442-a2aa-1a1fb89e00ec",
   "metadata": {},
   "outputs": [
    {
     "ename": "ZeroDivisionError",
     "evalue": "division by zero",
     "output_type": "error",
     "traceback": [
      "\u001b[0;31m---------------------------------------------------------------------------\u001b[0m",
      "\u001b[0;31mZeroDivisionError\u001b[0m                         Traceback (most recent call last)",
      "Cell \u001b[0;32mIn[6], line 4\u001b[0m\n\u001b[1;32m      1\u001b[0m \u001b[38;5;66;03m# If an exception is not caught (with a catch block), the runtime system will abort the program (i.e. crash)\u001b[39;00m\n\u001b[1;32m      2\u001b[0m \u001b[38;5;66;03m# and an exception message will print to the console.\u001b[39;00m\n\u001b[1;32m      3\u001b[0m \u001b[38;5;66;03m# Ex.\u001b[39;00m\n\u001b[0;32m----> 4\u001b[0m a \u001b[38;5;241m=\u001b[39m \u001b[38;5;241;43m7\u001b[39;49m\u001b[38;5;241;43m/\u001b[39;49m\u001b[38;5;241;43m0\u001b[39;49m \u001b[38;5;66;03m# here divide by zero is an exception\u001b[39;00m\n",
      "\u001b[0;31mZeroDivisionError\u001b[0m: division by zero"
     ]
    }
   ],
   "source": [
    "# If an exception is not caught (with a catch block), the runtime system will abort the program (i.e. crash)\n",
    "# and an exception message will print to the console.\n",
    "# Ex.\n",
    "a = 7/0 # here divide by zero is an exception"
   ]
  },
  {
   "cell_type": "code",
   "execution_count": 7,
   "id": "0d03d444-70b0-48ed-afc6-0ed6cf1ba4bc",
   "metadata": {},
   "outputs": [],
   "source": [
    "# Q3. Which python statement is used to catch and handle exception. Expalin with example."
   ]
  },
  {
   "cell_type": "code",
   "execution_count": 8,
   "id": "409b05bc-e1bd-4a01-aad5-6ea4916a7c19",
   "metadata": {},
   "outputs": [
    {
     "name": "stdout",
     "output_type": "stream",
     "text": [
      " my exception  division by zero\n"
     ]
    }
   ],
   "source": [
    "# Try and catch statement is used to handle the exception.\n",
    "# ex.\n",
    "try:\n",
    "    a = 5/0\n",
    "except Exception as e:\n",
    "    print(\" my exception \",e)"
   ]
  },
  {
   "cell_type": "code",
   "execution_count": 9,
   "id": "afb4560b-4249-4a95-8357-b810007662e3",
   "metadata": {},
   "outputs": [],
   "source": [
    "# Q4. Explain with example.\n",
    "#  try and else\n",
    "# finally\n",
    "# raise"
   ]
  },
  {
   "cell_type": "code",
   "execution_count": 10,
   "id": "ee076b56-570f-47ce-9226-477217f981d6",
   "metadata": {},
   "outputs": [
    {
     "name": "stdout",
     "output_type": "stream",
     "text": [
      "it will execute once your try block execute without error\n"
     ]
    }
   ],
   "source": [
    "#  try and else\n",
    "# else statement will execute only when try statement execute without error.\n",
    "try :\n",
    "    f = open(\"test.txt\",'w')\n",
    "    f.write(\"write into my file\")\n",
    "except Exception as e: # Exception is super class\n",
    "    print(\"this is my except block \",e)\n",
    "else :\n",
    "    f.close()\n",
    "    print(\"it will execute once your try block execute without error\")"
   ]
  },
  {
   "cell_type": "code",
   "execution_count": 11,
   "id": "701ed399-68d4-4890-af4a-b6604791315a",
   "metadata": {},
   "outputs": [
    {
     "name": "stdout",
     "output_type": "stream",
     "text": [
      " finally will execute in any situation\n"
     ]
    }
   ],
   "source": [
    "# finally\n",
    "# finally will execute in any situation\n",
    "try:\n",
    "    f = open(\"test2.txt\",'w')\n",
    "    f.write(\"write something\")\n",
    "finally:\n",
    "    print(\" finally will execute in any situation\")"
   ]
  },
  {
   "cell_type": "code",
   "execution_count": 12,
   "id": "976d1192-a798-432a-b2d3-5f7d563a73c5",
   "metadata": {},
   "outputs": [
    {
     "ename": "Exception",
     "evalue": "The number shouldn't be an odd integer",
     "output_type": "error",
     "traceback": [
      "\u001b[0;31m---------------------------------------------------------------------------\u001b[0m",
      "\u001b[0;31mException\u001b[0m                                 Traceback (most recent call last)",
      "Cell \u001b[0;32mIn[12], line 8\u001b[0m\n\u001b[1;32m      5\u001b[0m a \u001b[38;5;241m=\u001b[39m \u001b[38;5;241m5\u001b[39m\n\u001b[1;32m      7\u001b[0m \u001b[38;5;28;01mif\u001b[39;00m a \u001b[38;5;241m%\u001b[39m \u001b[38;5;241m2\u001b[39m \u001b[38;5;241m!=\u001b[39m \u001b[38;5;241m0\u001b[39m:\n\u001b[0;32m----> 8\u001b[0m \t\u001b[38;5;28;01mraise\u001b[39;00m \u001b[38;5;167;01mException\u001b[39;00m(\u001b[38;5;124m\"\u001b[39m\u001b[38;5;124mThe number shouldn\u001b[39m\u001b[38;5;124m'\u001b[39m\u001b[38;5;124mt be an odd integer\u001b[39m\u001b[38;5;124m\"\u001b[39m)\n",
      "\u001b[0;31mException\u001b[0m: The number shouldn't be an odd integer"
     ]
    }
   ],
   "source": [
    "# raise\n",
    "# Python raise Keyword is used to raise exceptions or errors. \n",
    "#The raise keyword raises an error and stops the control flow of the program.\n",
    "# ex.\n",
    "a = 5\n",
    "\n",
    "if a % 2 != 0:\n",
    "\traise Exception(\"The number shouldn't be an odd integer\")\n"
   ]
  },
  {
   "cell_type": "code",
   "execution_count": 15,
   "id": "f6152f66-3e61-4b34-a805-95587827cd9c",
   "metadata": {},
   "outputs": [
    {
     "name": "stdin",
     "output_type": "stream",
     "text": [
      "Enter a number:  14\n"
     ]
    },
    {
     "name": "stdout",
     "output_type": "stream",
     "text": [
      "Exception occurred: Invalid Age\n"
     ]
    }
   ],
   "source": [
    "# Q5. What are custom exception. Why we need , explain with example.\n",
    "# Custom exception are user defined exception\n",
    "# In Python, we can define custom exceptions by creating a new class that is \n",
    "# derived from the built-in Exception class.\n",
    "# ex.\n",
    "class InvalidAgeException(Exception):\n",
    "    \"Raised when the input value is less than 18\"\n",
    "    pass\n",
    "\n",
    "number = 18\n",
    "\n",
    "try:\n",
    "    input_num = int(input(\"Enter a number: \"))\n",
    "    if input_num < number:\n",
    "        raise InvalidAgeException\n",
    "    else:\n",
    "        print(\"Eligible to Vote\")\n",
    "        \n",
    "except InvalidAgeException:\n",
    "    print(\"Exception occurred: Invalid Age\")"
   ]
  },
  {
   "cell_type": "code",
   "execution_count": 16,
   "id": "9831bbd8-8e04-481b-a77c-f1e40b8f4089",
   "metadata": {},
   "outputs": [
    {
     "name": "stdin",
     "output_type": "stream",
     "text": [
      "Enter a number:  12\n"
     ]
    },
    {
     "name": "stdout",
     "output_type": "stream",
     "text": [
      "Exception occurred: Invalid Age\n"
     ]
    }
   ],
   "source": [
    "# Q6. Create a custom exception. Use this class to handle the exception.\n",
    "class InvalidAgeException(Exception):\n",
    "    \"Raised when the input value is less than 18\"\n",
    "    pass\n",
    "\n",
    "number = 18\n",
    "\n",
    "try:\n",
    "    input_num = int(input(\"Enter a number: \"))\n",
    "    if input_num < number:\n",
    "        raise InvalidAgeException\n",
    "    else:\n",
    "        print(\"Eligible to Vote\")\n",
    "        \n",
    "except InvalidAgeException:\n",
    "    print(\"Exception occurred: Invalid Age\")"
   ]
  },
  {
   "cell_type": "code",
   "execution_count": null,
   "id": "c9963f76-a443-44c0-a3ca-c821098e6c1d",
   "metadata": {},
   "outputs": [],
   "source": []
  }
 ],
 "metadata": {
  "kernelspec": {
   "display_name": "Python 3 (ipykernel)",
   "language": "python",
   "name": "python3"
  },
  "language_info": {
   "codemirror_mode": {
    "name": "ipython",
    "version": 3
   },
   "file_extension": ".py",
   "mimetype": "text/x-python",
   "name": "python",
   "nbconvert_exporter": "python",
   "pygments_lexer": "ipython3",
   "version": "3.10.8"
  }
 },
 "nbformat": 4,
 "nbformat_minor": 5
}
