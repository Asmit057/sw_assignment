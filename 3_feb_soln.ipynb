{
 "cells": [
  {
   "cell_type": "code",
   "execution_count": 1,
   "id": "1672ef97-7807-43d0-bfb9-4107bd9a0112",
   "metadata": {},
   "outputs": [],
   "source": [
    "# 3 feb assignment"
   ]
  },
  {
   "cell_type": "code",
   "execution_count": 2,
   "id": "59972057-6dde-4fc5-98b9-1958aaed276e",
   "metadata": {},
   "outputs": [],
   "source": [
    "# 1. Which keyword is used to make funcn. Create funcn. to return list of odd number in\n",
    "# range from 1 to 25"
   ]
  },
  {
   "cell_type": "code",
   "execution_count": 3,
   "id": "caf1c8b4-5962-47e7-b183-8cd0f1184d70",
   "metadata": {},
   "outputs": [
    {
     "name": "stdout",
     "output_type": "stream",
     "text": [
      "[1, 3, 5, 7, 9, 11, 13, 15, 17, 19, 21, 23, 25]\n"
     ]
    }
   ],
   "source": [
    "# def is used to create funcn.\n",
    "def odd_number(n):\n",
    "    list3 =[]\n",
    "    i=1\n",
    "    while i<=n:\n",
    "        if i%2!=0:\n",
    "            list3.append(i)\n",
    "        i +=1\n",
    "    return list3\n",
    "lis =odd_number(25)\n",
    "print(lis)"
   ]
  },
  {
   "cell_type": "code",
   "execution_count": 4,
   "id": "a4de2a86-d81d-4bc7-aa50-0c513351ff3e",
   "metadata": {},
   "outputs": [],
   "source": [
    "# 2.Why *args and **kwargs used in some function. Give example"
   ]
  },
  {
   "cell_type": "code",
   "execution_count": 5,
   "id": "90f6bf91-a5e0-4980-8388-a90f22fb77bc",
   "metadata": {},
   "outputs": [
    {
     "name": "stdout",
     "output_type": "stream",
     "text": [
      "64\n"
     ]
    }
   ],
   "source": [
    "# *args is used to pass variable number of arguments to a function. It is used to pass\n",
    "# non key worded variable length argument list.\n",
    "#ex.\n",
    "def sum(*b):\n",
    "    Sum=0\n",
    "    for i in b:\n",
    "        Sum  = Sum+i\n",
    "    return Sum\n",
    "\n",
    "print(sum(5,4,52,3))"
   ]
  },
  {
   "cell_type": "code",
   "execution_count": 6,
   "id": "d4395ca0-2c57-40f8-a417-05e57b9561c6",
   "metadata": {},
   "outputs": [
    {
     "name": "stdout",
     "output_type": "stream",
     "text": [
      "aman\n",
      "{'age': 18, 'city': 'Delhi', 'mob': '3242'}\n"
     ]
    }
   ],
   "source": [
    "# **kwargs  is used to pass a keyworded, variable-length argument list in function.\n",
    "#  A keyword argument is where we provide a name to the variable as we pass it into the function.\n",
    "# ex.\n",
    "def person(name , **data):\n",
    "    print(name)\n",
    "    print(data)\n",
    "    \n",
    "person('aman',age=18,city='Delhi',mob='3242')"
   ]
  },
  {
   "cell_type": "code",
   "execution_count": 7,
   "id": "615698f9-8349-41f3-a365-f867ba4dd5bb",
   "metadata": {},
   "outputs": [
    {
     "name": "stdout",
     "output_type": "stream",
     "text": [
      "Country == India\n",
      "State == Delhi\n",
      "Name == Aman\n"
     ]
    }
   ],
   "source": [
    "#ex 2.\n",
    "def myFun(**kwargs):\n",
    "\tfor key, value in kwargs.items():\n",
    "\t\tprint(\"%s == %s\" % (key, value))\n",
    "\n",
    "\n",
    "# Driver code\n",
    "myFun(Country='India', State='Delhi', Name='Aman')\n"
   ]
  },
  {
   "cell_type": "code",
   "execution_count": 8,
   "id": "5b86d069-c50f-4c37-9912-c4857136f5eb",
   "metadata": {},
   "outputs": [],
   "source": [
    "# 3. What is iterator and method for iterator. Print first five element of list\n",
    "# list[2,4,6,8,10,12,14,16,18,20]"
   ]
  },
  {
   "cell_type": "code",
   "execution_count": 9,
   "id": "de2856e6-149c-471f-82e7-5ad61375fd1b",
   "metadata": {},
   "outputs": [
    {
     "name": "stdout",
     "output_type": "stream",
     "text": [
      "2\n",
      "4\n",
      "6\n",
      "8\n",
      "10\n"
     ]
    }
   ],
   "source": [
    "# An iterator is an object which contains a countable number of values and it is used to iterate over \n",
    "# iterable objects like list, tuples, sets, etc.\n",
    "# Method to initialise iterator object is iter().\n",
    "# Method used for iteration is next().\n",
    "lis = [2,4,6,8,10,12,14,16,18,20]\n",
    "it = iter(lis)\n",
    "for i in range(5):\n",
    "    print(next(it))"
   ]
  },
  {
   "cell_type": "code",
   "execution_count": 10,
   "id": "4654e244-1e86-4928-bea9-4307cfbaf8c6",
   "metadata": {},
   "outputs": [],
   "source": [
    "# 4.What is generator function and use of yield keyword .Give example."
   ]
  },
  {
   "cell_type": "code",
   "execution_count": 11,
   "id": "5faa5877-497d-4a5d-9017-c38f19b12bdf",
   "metadata": {},
   "outputs": [],
   "source": [
    "# It is another way of creating iterators in a simple way where it uses the keyword “yield” \n",
    "# instead of returning it in a defined function. Generators are implemented using a function.\n",
    "# It will return a sequence of data in an iterable format where we need to iterate over the sequence \n",
    "# to use the data as they won’t store the entire sequence in the memory.\n",
    "# ex.\n",
    "def test_fib(n):\n",
    "    a,b =0,1\n",
    "    for i in range(n):\n",
    "        yield a\n",
    "        a,b = b, a+b"
   ]
  },
  {
   "cell_type": "code",
   "execution_count": 12,
   "id": "d3b8f7be-c441-46e5-9d33-61b1544d41a8",
   "metadata": {},
   "outputs": [
    {
     "name": "stdout",
     "output_type": "stream",
     "text": [
      "0\n",
      "1\n",
      "1\n",
      "2\n",
      "3\n",
      "5\n",
      "8\n",
      "13\n",
      "21\n",
      "34\n"
     ]
    }
   ],
   "source": [
    "for i in test_fib(10):\n",
    "    print(i)"
   ]
  },
  {
   "cell_type": "code",
   "execution_count": 13,
   "id": "80d45a7e-6b08-4d70-b34b-c7cc8351caae",
   "metadata": {},
   "outputs": [],
   "source": [
    "# 5. Create a generator function for prime no. less than 1000. Use the next method to print\n",
    "# first 20 prime number."
   ]
  },
  {
   "cell_type": "code",
   "execution_count": 14,
   "id": "82532d44-ff4f-4c58-aa4d-d5bf802827a6",
   "metadata": {},
   "outputs": [],
   "source": [
    "def prime_no(n):\n",
    "    for i in range(1,n):\n",
    "        count =0\n",
    "        for k in range(1,i):\n",
    "            if i%k==0:\n",
    "                count +=1\n",
    "        if count<2:\n",
    "            yield i"
   ]
  },
  {
   "cell_type": "code",
   "execution_count": 15,
   "id": "8b1fbd0b-84a8-47cc-8d99-54ad6575ee30",
   "metadata": {},
   "outputs": [
    {
     "name": "stdout",
     "output_type": "stream",
     "text": [
      "1\n",
      "2\n",
      "3\n",
      "5\n",
      "7\n",
      "11\n",
      "13\n",
      "17\n",
      "19\n",
      "23\n",
      "29\n",
      "31\n",
      "37\n",
      "41\n",
      "43\n",
      "47\n",
      "53\n",
      "59\n",
      "61\n",
      "67\n",
      "count=  20\n"
     ]
    }
   ],
   "source": [
    "it  = iter(prime_no(1000))\n",
    "count=0\n",
    "for i in range(20):\n",
    "    print(next(it))\n",
    "    count +=1\n",
    "print(\"count= \", count)"
   ]
  },
  {
   "cell_type": "code",
   "execution_count": 16,
   "id": "96bb3a91-846b-4648-ac00-33a5d0f5aadf",
   "metadata": {},
   "outputs": [],
   "source": [
    "# 6. Program to print first 10 fibonnaci no using while loop."
   ]
  },
  {
   "cell_type": "code",
   "execution_count": 17,
   "id": "8f2b9070-1839-4bc6-9f01-544e3b6813da",
   "metadata": {},
   "outputs": [],
   "source": [
    "def fibo(n):\n",
    "    a,b =0,1\n",
    "    i=1\n",
    "    while i<=n:\n",
    "        a,b = b, a+b\n",
    "        print(a)\n",
    "        i +=1"
   ]
  },
  {
   "cell_type": "code",
   "execution_count": 18,
   "id": "757ac51f-3964-4368-8fb4-2d0a0246170d",
   "metadata": {},
   "outputs": [
    {
     "name": "stdout",
     "output_type": "stream",
     "text": [
      "1\n",
      "1\n",
      "2\n",
      "3\n",
      "5\n",
      "8\n",
      "13\n",
      "21\n",
      "34\n",
      "55\n"
     ]
    }
   ],
   "source": [
    "fibo(10)"
   ]
  },
  {
   "cell_type": "code",
   "execution_count": 19,
   "id": "b63bfb2b-f4db-4c4a-808d-cdf8e65fe032",
   "metadata": {},
   "outputs": [],
   "source": [
    "# 7. Write a List Comprehension to iterate through the given string: ‘pwskills’.\n",
    "#Expected output: ['p', 'w', 's', 'k', 'i', 'l', 'l', 's']"
   ]
  },
  {
   "cell_type": "code",
   "execution_count": 20,
   "id": "78abe4f4-2e60-475f-ad83-500655b62a76",
   "metadata": {},
   "outputs": [
    {
     "name": "stdout",
     "output_type": "stream",
     "text": [
      "['p', 'w', 's', 'k', 'i', 'l', 'l', 's']\n"
     ]
    }
   ],
   "source": [
    "string = 'pwskills'\n",
    "it =iter(string)\n",
    "list1 =[]\n",
    "for i in it:\n",
    "    list1.append(i)\n",
    "print(list1)"
   ]
  },
  {
   "cell_type": "code",
   "execution_count": 21,
   "id": "529b652b-cc98-44ae-8cd9-4bb90db4983d",
   "metadata": {},
   "outputs": [],
   "source": [
    "# 8. Program to check whether a given no is palindrome or not using while loop."
   ]
  },
  {
   "cell_type": "code",
   "execution_count": 22,
   "id": "d4e36191-997a-4e8f-999c-85c4c4accabb",
   "metadata": {},
   "outputs": [],
   "source": [
    "def palindrome(n):\n",
    "    x=n\n",
    "    list1 =[]\n",
    "    count=0\n",
    "    while n>=1:\n",
    "        i = n%10\n",
    "        list1.append(int(i))\n",
    "        count+=1\n",
    "        n=n/10\n",
    "    k = count-1\n",
    "    i=0\n",
    "    num =0\n",
    "    while i<=count-1 and k>=0:\n",
    "        num += list1[i]*(10**k)\n",
    "        i+=1\n",
    "        k -=1\n",
    "    if x==num:\n",
    "        print('it is palindrome')\n",
    "    else:\n",
    "        print(' it is not palindrome')\n",
    "    \n",
    "        \n",
    "    \n",
    "    "
   ]
  },
  {
   "cell_type": "code",
   "execution_count": 23,
   "id": "eadbbc5b-3bc6-48bf-bbf1-6d18c2dc70fa",
   "metadata": {},
   "outputs": [
    {
     "name": "stdout",
     "output_type": "stream",
     "text": [
      "it is palindrome\n"
     ]
    }
   ],
   "source": [
    "palindrome(123321)"
   ]
  },
  {
   "cell_type": "code",
   "execution_count": 24,
   "id": "cba6bf51-dcf9-49b3-a1a3-636df5049b2f",
   "metadata": {},
   "outputs": [],
   "source": [
    "# 9.  Write a code to print odd numbers from 1 to 100 using list comprehension."
   ]
  },
  {
   "cell_type": "code",
   "execution_count": 25,
   "id": "d1eaea47-a930-4152-80d6-e3d804330326",
   "metadata": {},
   "outputs": [],
   "source": [
    "# to filter odd number we use filter function\n",
    "def is_odd(n):\n",
    "    return n%2!=0"
   ]
  },
  {
   "cell_type": "code",
   "execution_count": 26,
   "id": "0239d336-d413-4188-b438-bb05424fc993",
   "metadata": {},
   "outputs": [
    {
     "name": "stdout",
     "output_type": "stream",
     "text": [
      "[1, 3, 5]\n"
     ]
    }
   ],
   "source": [
    "nums =[]\n",
    "for i in range(1,101):\n",
    "    nums.ap\n",
    "odds =  list(filter(is_odd , nums))\n",
    "print(odds)"
   ]
  },
  {
   "cell_type": "code",
   "execution_count": 27,
   "id": "e5ea0e28-bbaa-479a-a49e-d16baf08d74a",
   "metadata": {},
   "outputs": [],
   "source": [
    "list_odd = list(filter(is_odd,nums))"
   ]
  },
  {
   "cell_type": "code",
   "execution_count": null,
   "id": "13b920dd-11e4-4d89-9b80-b0bab0bf598e",
   "metadata": {},
   "outputs": [],
   "source": []
  }
 ],
 "metadata": {
  "kernelspec": {
   "display_name": "Python 3 (ipykernel)",
   "language": "python",
   "name": "python3"
  },
  "language_info": {
   "codemirror_mode": {
    "name": "ipython",
    "version": 3
   },
   "file_extension": ".py",
   "mimetype": "text/x-python",
   "name": "python",
   "nbconvert_exporter": "python",
   "pygments_lexer": "ipython3",
   "version": "3.10.8"
  }
 },
 "nbformat": 4,
 "nbformat_minor": 5
}
