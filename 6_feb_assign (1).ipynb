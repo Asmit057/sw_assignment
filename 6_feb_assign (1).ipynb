{
 "cells": [
  {
   "cell_type": "code",
   "execution_count": 1,
   "id": "5a57c3e7-075a-477b-9317-bfb4bfffbeb2",
   "metadata": {},
   "outputs": [],
   "source": [
    "# 6 feb assignment"
   ]
  },
  {
   "cell_type": "code",
   "execution_count": 2,
   "id": "9675611c-c294-4d48-b40a-b60d7e24016e",
   "metadata": {},
   "outputs": [],
   "source": [
    "# Q1. Create a function which will take a list as an argument and return the product of all the numbers \n",
    "# after creating a flat list.\n",
    "# list1 = [1,2,3,4, [44,55,66, True], False, (34,56,78,89,34), {1,2,3,3,2,1}, {1:34, \"key2\": [55, 67, 78, 89], 4: (45, \n",
    "# 22, 61, 34)}, [56, 'data science'], 'Machine Learning']\n",
    "# Note: you must extract numeric keys and values of the dictionary also.\n"
   ]
  },
  {
   "cell_type": "code",
   "execution_count": 3,
   "id": "e4183a7b-8215-4a5c-a955-3fedd6a48549",
   "metadata": {},
   "outputs": [],
   "source": [
    " list1 = [1,2,3,4, [44,55,66, True], False, (34,56,78,89,34), {1,2,3,3,2,1}, {1:34, \"key2\": [55, 67, 78, 89], 4: (45, \n",
    "22, 61, 34)}, [56, 'data science'], 'Machine Learning']\n",
    "\n",
    "lisp = []\n",
    "for i in list1:\n",
    "    if isinstance(i,(int,float)):\n",
    "            lisp.append(i)\n",
    "    elif isinstance(i,(dict)):\n",
    "        key_list = list(i.keys())\n",
    "        key_value = list(i.values())\n",
    "        for j in key_list:\n",
    "            lisp.append(j)\n",
    "        for k in key_value:\n",
    "            lisp.append(k)\n",
    "    elif  isinstance(i,(list,tuple)):\n",
    "            for k in i:\n",
    "                lisp.append(k)\n",
    "    elif isinstance(i ,(set)):\n",
    "        list(i)\n",
    "        for k in i:\n",
    "            lisp.append(k)\n",
    "    else:\n",
    "        lisp.append(i)\n",
    "        "
   ]
  },
  {
   "cell_type": "code",
   "execution_count": 4,
   "id": "fa5b0d41-50a6-4244-bc61-0d304dd1291f",
   "metadata": {},
   "outputs": [
    {
     "name": "stdout",
     "output_type": "stream",
     "text": [
      "[1, 2, 3, 4, 44, 55, 66, True, False, 34, 56, 78, 89, 34, 1, 2, 3, 1, 'key2', 4, 34, [55, 67, 78, 89], (45, 22, 61, 34), 56, 'data science', 'Machine Learning']\n"
     ]
    }
   ],
   "source": [
    "print(lisp)"
   ]
  },
  {
   "cell_type": "code",
   "execution_count": 5,
   "id": "45ffedfb-c0e3-44ea-b88c-a64a7bd23d1c",
   "metadata": {},
   "outputs": [],
   "source": [
    "lis_res = []\n",
    "for i in lisp:\n",
    "    if isinstance(i,(int)):\n",
    "            lis_res.append(i)\n",
    "    elif isinstance(i,(list,tuple)):\n",
    "        for k in i:\n",
    "            lis_res.append(k)\n",
    "    else:\n",
    "        lis_res.append(i)"
   ]
  },
  {
   "cell_type": "code",
   "execution_count": 6,
   "id": "0b92bf6e-6e9d-4f24-a248-4ab7c069a6ba",
   "metadata": {},
   "outputs": [
    {
     "name": "stdout",
     "output_type": "stream",
     "text": [
      "[1, 2, 3, 4, 44, 55, 66, True, False, 34, 56, 78, 89, 34, 1, 2, 3, 1, 'key2', 4, 34, 55, 67, 78, 89, 45, 22, 61, 34, 56, 'data science', 'Machine Learning']\n"
     ]
    }
   ],
   "source": [
    "print(lis_res) # after flattening list ,final list"
   ]
  },
  {
   "cell_type": "code",
   "execution_count": 7,
   "id": "04d44b6f-d3b0-40f2-b8bd-0f7bcfd6a674",
   "metadata": {},
   "outputs": [
    {
     "name": "stdout",
     "output_type": "stream",
     "text": [
      "product is :  4134711838987085478833841242112000\n"
     ]
    }
   ],
   "source": [
    "def product_fun(lis_res):\n",
    "    product =1\n",
    "    for i in lis_res:\n",
    "        if i==True or i==False:\n",
    "            i=1\n",
    "        if isinstance(i,(int,float)):\n",
    "            product =product*i\n",
    "    return product\n",
    "        \n",
    "print(\"product is : \", product_fun(lis_res)) # return the product"
   ]
  },
  {
   "cell_type": "code",
   "execution_count": 13,
   "id": "db190fb3-0257-4127-a27e-8b77b6cfc186",
   "metadata": {},
   "outputs": [],
   "source": [
    "# 2.Write a python program for encrypting a message sent to you by your friend. The logic of encryption \n",
    "#should be such that, for a the output should be z. For b, the output should be y. For c, the output should \n",
    "# be x respectively. Also, the whitespace should be replaced with a dollar sign. Keep the punctuation marks\n",
    "# unchanged."
   ]
  },
  {
   "cell_type": "code",
   "execution_count": 14,
   "id": "047d1b37-e7be-4b24-b416-0060cfdcc05e",
   "metadata": {},
   "outputs": [],
   "source": [
    "string = \"I want to become a Data Scientist.\"\n",
    "l =[]\n",
    "for i in str1:\n",
    "    l.append(i)"
   ]
  },
  {
   "cell_type": "code",
   "execution_count": 15,
   "id": "5c8b06c1-b4c4-49b6-afdc-e7ab29d22cbe",
   "metadata": {},
   "outputs": [
    {
     "name": "stdout",
     "output_type": "stream",
     "text": [
      "['i', ' ', 'w', 'a', 'n', 't', ' ', 't', 'o', ' ', 'b', 'e', 'c', 'o', 'm', 'e', ' ', 'a', ' ', 'd', 'a', 't', 'a', ' ', 's', 'c', 'i', 'e', 'n', 't', 'i', 's', 't', '.']\n"
     ]
    }
   ],
   "source": [
    "print(l)\n"
   ]
  },
  {
   "cell_type": "code",
   "execution_count": 16,
   "id": "ac51fb9e-8708-4ccd-86ac-070dd3013715",
   "metadata": {},
   "outputs": [],
   "source": [
    "for i in range(len(l)):\n",
    "    if l[i]=='a':\n",
    "        l[i] ='z'\n",
    "    elif l[i]=='b':\n",
    "        l[i] ='y'\n",
    "    elif l[i]=='c':\n",
    "        l[i] = 'x'\n",
    "    elif l[i]==' ':\n",
    "        l[i]='$'\n",
    "    else:\n",
    "        None"
   ]
  },
  {
   "cell_type": "code",
   "execution_count": 17,
   "id": "cb66ba52-3baf-4187-956e-6d71dec58086",
   "metadata": {},
   "outputs": [
    {
     "name": "stdout",
     "output_type": "stream",
     "text": [
      "['i', '$', 'w', 'z', 'n', 't', '$', 't', 'o', '$', 'y', 'e', 'x', 'o', 'm', 'e', '$', 'z', '$', 'd', 'z', 't', 'z', '$', 's', 'x', 'i', 'e', 'n', 't', 'i', 's', 't', '.']\n"
     ]
    }
   ],
   "source": [
    "print(l)"
   ]
  },
  {
   "cell_type": "code",
   "execution_count": 18,
   "id": "6c28e915-df95-461b-ab2c-87923a622a34",
   "metadata": {},
   "outputs": [],
   "source": [
    "res = \"\"\n",
    "for i in l:\n",
    "    res +=i"
   ]
  },
  {
   "cell_type": "code",
   "execution_count": 19,
   "id": "009d88a9-8b60-4f9e-ae3f-028183389eda",
   "metadata": {},
   "outputs": [
    {
     "name": "stdout",
     "output_type": "stream",
     "text": [
      "i$wznt$to$yexome$z$dztz$sxientist.\n"
     ]
    }
   ],
   "source": [
    "print(res)"
   ]
  },
  {
   "cell_type": "code",
   "execution_count": null,
   "id": "1c7b381c-c8bb-465e-8e15-3d7c53a983e1",
   "metadata": {},
   "outputs": [],
   "source": []
  }
 ],
 "metadata": {
  "kernelspec": {
   "display_name": "Python 3 (ipykernel)",
   "language": "python",
   "name": "python3"
  },
  "language_info": {
   "codemirror_mode": {
    "name": "ipython",
    "version": 3
   },
   "file_extension": ".py",
   "mimetype": "text/x-python",
   "name": "python",
   "nbconvert_exporter": "python",
   "pygments_lexer": "ipython3",
   "version": "3.10.8"
  }
 },
 "nbformat": 4,
 "nbformat_minor": 5
}
