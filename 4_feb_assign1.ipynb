{
 "cells": [
  {
   "cell_type": "code",
   "execution_count": 1,
   "id": "1cb04f87-d19c-4ddb-8120-0979d14a03c7",
   "metadata": {},
   "outputs": [],
   "source": [
    "# 4 feb assignment"
   ]
  },
  {
   "cell_type": "code",
   "execution_count": 2,
   "id": "7769611b-a6f4-481c-8a08-ff3df8607643",
   "metadata": {},
   "outputs": [],
   "source": [
    "# 1. Program to sort the list of tuple based on integer value, using lambda funcn.\n",
    "# [('Sachin Tendulkar', 34357), ('Ricky Ponting', 27483), ('Jack Kallis', 25534), ('Virat Kohli', 24936)]"
   ]
  },
  {
   "cell_type": "code",
   "execution_count": 3,
   "id": "5622672b-424a-4d3e-9618-6cf008e0b020",
   "metadata": {},
   "outputs": [
    {
     "name": "stdout",
     "output_type": "stream",
     "text": [
      "[('Virat Kohli', 24936), ('Jack Kallis', 25534), ('Ricky Ponting', 27483), ('Sachin Tendulkar', 34357)]\n"
     ]
    }
   ],
   "source": [
    "lis = [('Sachin Tendulkar', 34357), ('Ricky Ponting', 27483), ('Jack Kallis', 25534), ('Virat Kohli', 24936)]\n",
    "newList = sorted(lis, key = lambda x : x[1])\n",
    "print(newList)"
   ]
  },
  {
   "cell_type": "code",
   "execution_count": 4,
   "id": "afe41138-5ce5-47da-b4db-9b66d9dc3f65",
   "metadata": {},
   "outputs": [],
   "source": [
    "#Q2. Write a Python Program to find the squares of all the numbers in the given list of integers using \n",
    "#lambda and map functions.\n",
    "#[1, 2, 3, 4, 5, 6, 7, 8, 9, 10]"
   ]
  },
  {
   "cell_type": "code",
   "execution_count": 5,
   "id": "decedc52-1495-47fe-b7fd-d1457c9c34ac",
   "metadata": {},
   "outputs": [
    {
     "name": "stdout",
     "output_type": "stream",
     "text": [
      "[1, 4, 9, 16, 25, 36, 49, 64, 81, 100]\n"
     ]
    }
   ],
   "source": [
    "lis =[1, 2, 3, 4, 5, 6, 7, 8, 9, 10]\n",
    "lis_sq = list(map( lambda a:a*a ,lis))\n",
    "print(lis_sq)"
   ]
  },
  {
   "cell_type": "code",
   "execution_count": 6,
   "id": "c020c425-3ced-4485-ba8e-fc6045fec8b0",
   "metadata": {},
   "outputs": [
    {
     "name": "stdout",
     "output_type": "stream",
     "text": [
      "('1', '2', '3', '4', '5', '6', '7', '8', '9', '10')\n"
     ]
    }
   ],
   "source": [
    "# Q3. Write a python program to convert the given list of integers into a tuple of strings. Use map and \n",
    "#lambda functions\n",
    "#Given String: [1, 2, 3, 4, 5, 6, 7, 8, 9, 10]\n",
    "#Expected output: ('1', '2', '3', '4', '5', '6', '7', '8', '9', '10')\n",
    "string =  [1, 2, 3, 4, 5, 6, 7, 8, 9, 10]\n",
    "tup = tuple(map( lambda a:str(a) , string))\n",
    "print(tup)"
   ]
  },
  {
   "cell_type": "code",
   "execution_count": 7,
   "id": "db513679-c580-418b-b849-b7ab9ead0a3b",
   "metadata": {},
   "outputs": [],
   "source": [
    "# Q4.  Write a python program using reduce function to compute the product of a list containing numbers \n",
    "# from 1 to 25.\n",
    "lis = []\n",
    "for i in range(1,26):\n",
    "    lis.append(i)"
   ]
  },
  {
   "cell_type": "code",
   "execution_count": 8,
   "id": "3e5544c2-6374-43fa-a067-de481394877c",
   "metadata": {},
   "outputs": [
    {
     "name": "stdout",
     "output_type": "stream",
     "text": [
      "15511210043330985984000000\n"
     ]
    }
   ],
   "source": [
    "from functools import reduce\n",
    "lis_pr = reduce(lambda a,b:a*b ,lis)\n",
    "print(lis_pr)"
   ]
  },
  {
   "cell_type": "code",
   "execution_count": 9,
   "id": "4f63f89e-8b8c-4bfd-930d-ebb4bc1a0c07",
   "metadata": {},
   "outputs": [
    {
     "name": "stdout",
     "output_type": "stream",
     "text": [
      "[2, 3, 6, 9, 27, 60, 90, 120, 46]\n"
     ]
    }
   ],
   "source": [
    "# Q5. Write a python program to filter the numbers in a given list that are divisible by 2 and 3 using the \n",
    "# filter function.\n",
    "#[2, 3, 6, 9, 27, 60, 90, 120, 55, 46]\n",
    "lis =[2, 3, 6, 9, 27, 60, 90, 120, 55, 46]\n",
    "lis_fil  = list(filter( lambda x: x%2==0 or x%3==0 , lis))\n",
    "print(lis_fil)"
   ]
  },
  {
   "cell_type": "code",
   "execution_count": 10,
   "id": "a84b9524-6539-4831-82b7-35ef16b9bf66",
   "metadata": {},
   "outputs": [],
   "source": [
    "# Q6. Write a python program to find palindromes in the given list of strings using lambda and filter \n",
    "# function.\n",
    "lis  = ['python', 'php', 'aba', 'radar', 'level']\n",
    "lis_pal = list(filter(lambda x: (x == \"\".join(reversed(x))), lis)) "
   ]
  },
  {
   "cell_type": "code",
   "execution_count": 11,
   "id": "3d6c214c-f5c8-44c7-b19b-fa363e4e440a",
   "metadata": {},
   "outputs": [
    {
     "name": "stdout",
     "output_type": "stream",
     "text": [
      "['php', 'aba', 'radar', 'level']\n"
     ]
    }
   ],
   "source": [
    "print(lis_pal)"
   ]
  },
  {
   "cell_type": "code",
   "execution_count": null,
   "id": "9ae0d52e-e0f8-4ce0-a759-deb0e5c01a65",
   "metadata": {},
   "outputs": [],
   "source": []
  },
  {
   "cell_type": "code",
   "execution_count": null,
   "id": "8150ffec-0ce4-415c-9e43-53889a58de0d",
   "metadata": {},
   "outputs": [],
   "source": []
  }
 ],
 "metadata": {
  "kernelspec": {
   "display_name": "Python 3 (ipykernel)",
   "language": "python",
   "name": "python3"
  },
  "language_info": {
   "codemirror_mode": {
    "name": "ipython",
    "version": 3
   },
   "file_extension": ".py",
   "mimetype": "text/x-python",
   "name": "python",
   "nbconvert_exporter": "python",
   "pygments_lexer": "ipython3",
   "version": "3.10.8"
  }
 },
 "nbformat": 4,
 "nbformat_minor": 5
}
