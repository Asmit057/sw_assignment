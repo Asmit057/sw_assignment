{
 "cells": [
  {
   "cell_type": "code",
   "execution_count": 1,
   "id": "8a6ce6d9-bd68-4e89-bcca-4c269be90675",
   "metadata": {},
   "outputs": [],
   "source": [
    "# 7 feb assign"
   ]
  },
  {
   "cell_type": "code",
   "execution_count": 2,
   "id": "8f926edd-3308-4107-8e43-86cf46972bbf",
   "metadata": {},
   "outputs": [],
   "source": [
    "# 1. Create password for company.\n",
    "# Note: 1. The Password should contain at least two uppercase letters and at least two lowercase letters.\n",
    "#2. The Password should contain at least a number and three special characters.\n",
    "# 3. The length of the password should be 10 characters long."
   ]
  },
  {
   "cell_type": "code",
   "execution_count": 38,
   "id": "f1538513-fccf-4bd8-abc7-83ada9419527",
   "metadata": {},
   "outputs": [],
   "source": [
    "def password(string):\n",
    "    string.split()\n",
    "    countlen=0\n",
    "    countu=0\n",
    "    countl=0\n",
    "    counti=0\n",
    "    for i in range(len(string)):\n",
    "        countlen +=1\n",
    "        if string[i].isupper()==True:\n",
    "            countu +=1\n",
    "        elif string[i].islower()== True:\n",
    "            countl +=1\n",
    "        else:\n",
    "            if string[i].isdigit()==True:\n",
    "                counti +=1\n",
    "    string.split()\n",
    "    c=0\n",
    "    s='[@_!#$%^&*()<>?/\\|}{~:]' # special character set\n",
    "    for i in range(len(string)):\n",
    "    # checking if any special character is present in given string or not\n",
    "        if string[i] in s:\n",
    "            c+=1 \n",
    "    if countu>=2 and countl>=2 and counti>=1 and c>=3 and countlen==10:\n",
    "        print(\"password is valid\")\n",
    "    else:\n",
    "        print(\"not valid\")\n",
    "    "
   ]
  },
  {
   "cell_type": "code",
   "execution_count": 42,
   "id": "9f94e997-6326-4b55-8106-ee0696d12fbb",
   "metadata": {},
   "outputs": [
    {
     "name": "stdout",
     "output_type": "stream",
     "text": [
      "password is valid\n"
     ]
    }
   ],
   "source": [
    "password(\"ASxz1!@#df\")"
   ]
  },
  {
   "cell_type": "code",
   "execution_count": 43,
   "id": "b945f03e-5fc4-4dff-bac7-f073d36cb84a",
   "metadata": {},
   "outputs": [],
   "source": [
    "# Q2. Solve the below-given questions using at least one of the following:\n",
    "# 1. Lambda function\n",
    "# 2. Filter function\n",
    "# 3. Map function\n",
    "# 4. List Comprehension"
   ]
  },
  {
   "cell_type": "code",
   "execution_count": 60,
   "id": "258e55c3-b44c-4ae6-90e2-bd619be513ea",
   "metadata": {},
   "outputs": [
    {
     "name": "stdin",
     "output_type": "stream",
     "text": [
      "enter the value:  a\n"
     ]
    },
    {
     "name": "stdout",
     "output_type": "stream",
     "text": [
      "True\n"
     ]
    }
   ],
   "source": [
    "# Check if the string starts with a particular letter.\n",
    "string ='abc'\n",
    "x = str(input(\"enter the value: \"))\n",
    "y = (lambda x,string:True if x==string[0] else False)\n",
    "z = y(x,string)\n",
    "print(z)"
   ]
  },
  {
   "cell_type": "code",
   "execution_count": 3,
   "id": "9d6b3ff9-05bf-4d7e-b2e4-84c56b40ea5f",
   "metadata": {},
   "outputs": [],
   "source": [
    "# Check if the string is numeric.\n",
    "y  = lambda x: x.isnumeric()"
   ]
  },
  {
   "cell_type": "code",
   "execution_count": 4,
   "id": "5aff1938-6bf8-4d46-9747-e900deba49fb",
   "metadata": {},
   "outputs": [
    {
     "name": "stdout",
     "output_type": "stream",
     "text": [
      "True\n"
     ]
    }
   ],
   "source": [
    "string ='123'\n",
    "x = y(string)\n",
    "print(x)"
   ]
  },
  {
   "cell_type": "code",
   "execution_count": 5,
   "id": "b56719f7-15eb-4676-83c7-12a0c36106d0",
   "metadata": {},
   "outputs": [
    {
     "name": "stdout",
     "output_type": "stream",
     "text": [
      "[('orange', 80), ('mango', 99), ('grapes', 1000)]\n"
     ]
    }
   ],
   "source": [
    "# Sort a list of tuples having fruit names and their quantity. \n",
    "# [(\"mango\",99),(\"orange\",80), (\"grapes\", 1000)]\n",
    "lis =[(\"mango\",99),(\"orange\",80), (\"grapes\", 1000)]\n",
    "newList = sorted(lis, key = lambda x : x[1])\n",
    "print(newList)"
   ]
  },
  {
   "cell_type": "code",
   "execution_count": 8,
   "id": "d00aae2f-748e-46fb-89ef-0db0d38c03e2",
   "metadata": {},
   "outputs": [
    {
     "name": "stdout",
     "output_type": "stream",
     "text": [
      "[1, 2, 3, 4, 5, 6, 7, 8, 9, 10]\n"
     ]
    }
   ],
   "source": [
    "#  Find the squares of numbers from 1 to 10\n",
    "lis1 =[]\n",
    "for i in range(1,11):\n",
    "    lis1.append(i)\n",
    "print(lis1)"
   ]
  },
  {
   "cell_type": "code",
   "execution_count": 11,
   "id": "e8588168-8735-451d-9bba-fc8eee6d0498",
   "metadata": {},
   "outputs": [
    {
     "name": "stdout",
     "output_type": "stream",
     "text": [
      "[1, 4, 9, 16, 25, 36, 49, 64, 81, 100]\n"
     ]
    }
   ],
   "source": [
    "\n",
    "lis_sq = list(map(lambda a: a*a ,lis1))\n",
    "print(lis_sq)"
   ]
  },
  {
   "cell_type": "code",
   "execution_count": 12,
   "id": "bfff2248-8bca-438d-bfb3-514a9f71dd59",
   "metadata": {},
   "outputs": [
    {
     "name": "stdout",
     "output_type": "stream",
     "text": [
      "[1, 8, 27, 64, 125, 216, 343, 512, 729, 1000]\n"
     ]
    }
   ],
   "source": [
    "#  Find the cube of numbers from 1 to 10.\n",
    "lis_cube = list(map(lambda a: a*a*a ,lis1))\n",
    "print(lis_cube)"
   ]
  },
  {
   "cell_type": "code",
   "execution_count": 13,
   "id": "278b6cf2-293d-42e7-9ed6-3a73f6d7a8a0",
   "metadata": {},
   "outputs": [
    {
     "name": "stdin",
     "output_type": "stream",
     "text": [
      "enter the no.  3\n"
     ]
    },
    {
     "name": "stdout",
     "output_type": "stream",
     "text": [
      "False\n"
     ]
    }
   ],
   "source": [
    "# Check if a given number is even.\n",
    "iseven = lambda x :  x%2==0 \n",
    "y = int(input(\"enter the no. \"))\n",
    "print(iseven(y))"
   ]
  },
  {
   "cell_type": "code",
   "execution_count": 14,
   "id": "1730b3fc-a8e7-4baa-bacf-c1819d89589d",
   "metadata": {},
   "outputs": [
    {
     "name": "stdout",
     "output_type": "stream",
     "text": [
      "[1, 3, 5, 7, 9]\n"
     ]
    }
   ],
   "source": [
    "#  Filter odd numbers from the given list.\n",
    "lis =[1,2,3,4,5,6,7,8,9,10]\n",
    "lis_odd = list(filter(lambda x: x%2!=0 , lis))\n",
    "print(lis_odd)"
   ]
  },
  {
   "cell_type": "code",
   "execution_count": 20,
   "id": "7242d65f-fb80-44b0-bfc8-e9018562e184",
   "metadata": {},
   "outputs": [
    {
     "name": "stdout",
     "output_type": "stream",
     "text": [
      "[0, 1, 2, 3, 4, 5, 6, -5, -4, -3, -2, -1]\n"
     ]
    }
   ],
   "source": [
    "# Sort a list of integers into positive and negative integers lists.\n",
    "lis = [1,2,3,4,5,6,-1,-2,-3,-4,-5,0]\n",
    "lis_sort = es =  sorted(filter(lambda x: x >= 0, lis)) + sorted(filter(lambda x: x < 0, lis))\n",
    "print(lis_sort)"
   ]
  },
  {
   "cell_type": "code",
   "execution_count": null,
   "id": "1a9ed125-6238-405a-9367-8bcefc76929e",
   "metadata": {},
   "outputs": [],
   "source": []
  }
 ],
 "metadata": {
  "kernelspec": {
   "display_name": "Python 3 (ipykernel)",
   "language": "python",
   "name": "python3"
  },
  "language_info": {
   "codemirror_mode": {
    "name": "ipython",
    "version": 3
   },
   "file_extension": ".py",
   "mimetype": "text/x-python",
   "name": "python",
   "nbconvert_exporter": "python",
   "pygments_lexer": "ipython3",
   "version": "3.10.8"
  }
 },
 "nbformat": 4,
 "nbformat_minor": 5
}
